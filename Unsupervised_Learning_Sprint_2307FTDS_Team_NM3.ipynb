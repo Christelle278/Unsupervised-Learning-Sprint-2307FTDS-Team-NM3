{
  "cells": [
    {
      "cell_type": "markdown",
      "metadata": {
        "id": "g4xxLVUqF3oC"
      },
      "source": [
        "# Movie Recommendation System\n",
        "\n",
        "© Explore Data Science Academy\n",
        "\n",
        "---\n",
        "### Honour Code\n",
        "\n",
        "I {**2307FTDS_team_NM3 Members**}, confirm - by submitting this document - that the solutions in this notebook are a result of my own work and that I abide by the [EDSA honour code](https://drive.google.com/file/d/1QDCjGZJ8-FmJE3bZdIQNwnJyQKPhHZBn/view?usp=sharing).\n",
        "\n",
        "Non-compliance with the honour code constitutes a material breach of contract.\n",
        "\n",
        "### Predict Overview: Twitter Sentiment Classification\n",
        "\n",
        "In today’s technology driven world, recommender systems are socially and economically critical for ensuring that individuals can make appropriate choices surrounding the content they engage with on a daily basis. One application where this is especially true surrounds movie content recommendations; where intelligent algorithms can help viewers find great titles from tens of thousands of options.\n",
        "\n",
        "With this context, EDSA is challenging you to construct a recommendation algorithm based on content or collaborative filtering, capable of accurately predicting how a user will rate a movie they have not yet viewed based on their historical preferences.\n",
        "\n",
        "Providing an accurate and robust solution to this challenge has immense economic potential, with users of the system being exposed to content they would like to view or purchase - generating revenue and platform affinity.\n",
        "\n",
        "2307FTDS_team_NM3 Members:\n",
        " 1.\n",
        " 2.\n",
        " 3.\n",
        " 4.\n",
        " 5. Christelle Coetzee\n",
        " 6."
      ]
    },
    {
      "cell_type": "markdown",
      "metadata": {
        "id": "sfSRv25II-xp"
      },
      "source": [
        "<a id=\"cont\"></a>\n",
        "\n",
        "## Table of Contents\n",
        "\n",
        "<a href=#one>1. Introduction</a>\n",
        "\n",
        "<a href=#two>2. Importing Packages</a>\n",
        "\n",
        "<a href=#three>3. Loading Data</a>\n",
        "\n",
        "<a href=#four>4. Exploratory Data Analysis (EDA)</a>\n",
        "\n",
        "<a href=#five>5. Feature Engineering</a>\n",
        "\n",
        "<a href=#six>6. Modeling</a>\n",
        "\n",
        "<a href=#seven>7. Model Performance</a>\n",
        "\n",
        "<a href=#eight>8. Model Explanations</a>\n",
        "\n",
        "<a href=#nine>9. Conclusion</a>"
      ]
    },
    {
      "cell_type": "markdown",
      "metadata": {
        "id": "ibOH0VUzJZFC"
      },
      "source": [
        " <a id=\"one\"></a>\n",
        "## 1. Introduction\n",
        "<a href=#cont>Back to Table of Contents</a>\n",
        "\n",
        "---\n",
        "    \n",
        "| ⚡ Description: Introduction ⚡ |\n",
        "| :--------------------------- |\n",
        "| In this section, we will introduce our institution and provide our problem statement. |"
      ]
    },
    {
      "cell_type": "markdown",
      "metadata": {
        "id": "v_f_ro2YJqPP"
      },
      "source": [
        "<a id=\"two\"></a>\n",
        "## 2. Import Packages and Libaries\n",
        "<a class=\"anchor\" id=\"1.1\"></a>\n",
        "<a href=#cont>Back to Table of Contents</a>\n",
        "\n",
        "---\n",
        "    \n",
        "| ⚡ Description: package importation⚡ |\n",
        "| :--------------------------- |\n",
        "| In this section we will import all the packages we will need in order to run our notebook. |\n",
        "\n",
        "---"
      ]
    },
    {
      "cell_type": "code",
      "execution_count": 1,
      "metadata": {
        "colab": {
          "base_uri": "https://localhost:8080/"
        },
        "id": "q_xseZWALZ0N",
        "outputId": "f7dcec76-9ab0-4b1b-ed82-e6f9edb142bd"
      },
      "outputs": [],
      "source": [
        "# Installations:\n",
        "\n",
        "# Uncomment and run the following commands to install necessary libraries:\n",
        "\n",
        "# Install Comet ML for experiment tracking\n",
        "#!pip install comet_ml\n",
        "\n",
        "# Install WordCloud for generating word clouds\n",
        "#!pip install wordcloud\n",
        "\n",
        "# Install Contractions for handling contractions in text data\n",
        "#!pip install contractions\n",
        "\n",
        "# Install CatBoost for CatBoost Classifier\n",
        "#!pip install catboost\n",
        "\n",
        "# Install XGBoost for XGBoost Classifier\n",
        "#!pip install xgboost\n",
        "\n",
        "# Install MLxtend for additional machine learning utilities\n",
        "#!pip install mlxtend\n",
        "\n",
        "# Install or upgrade TensorFlow for neural network models\n",
        "#!pip install --upgrade tensorflow"
      ]
    },
    {
      "cell_type": "code",
      "execution_count": 24,
      "metadata": {
        "colab": {
          "base_uri": "https://localhost:8080/"
        },
        "id": "Pn98I9_ELSx6",
        "outputId": "e05fd5ab-ce94-4dc3-e5ab-f0a15be2f0ee"
      },
      "outputs": [
        {
          "name": "stderr",
          "output_type": "stream",
          "text": [
            "[nltk_data] Downloading package punkt to\n",
            "[nltk_data]     C:\\Users\\T460\\AppData\\Roaming\\nltk_data...\n",
            "[nltk_data]   Package punkt is already up-to-date!\n",
            "[nltk_data] Downloading package wordnet to\n",
            "[nltk_data]     C:\\Users\\T460\\AppData\\Roaming\\nltk_data...\n",
            "[nltk_data]   Package wordnet is already up-to-date!\n"
          ]
        }
      ],
      "source": [
        "# Import necessary libraries\n",
        "import numpy as np  # Numerical operations library\n",
        "import pandas as pd  # Data manipulation and analysis library\n",
        "import matplotlib.pyplot as plt  # Plotting library\n",
        "import seaborn as sns  # Data visualization library based on Matplotlib\n",
        "%matplotlib inline\n",
        "from wordcloud import WordCloud  # Word cloud generation library\n",
        "import sweetviz as sv\n",
        "\n",
        "# Suppress warnings\n",
        "import warnings\n",
        "warnings.filterwarnings('ignore')\n",
        "\n",
        "# Import Comet ML for experiment tracking\n",
        "from comet_ml import Experiment  # Experiment tracking library\n",
        "\n",
        "# Import Natural Language Toolkit (nltk) for text processing\n",
        "import nltk  # Natural Language Toolkit\n",
        "from nltk.corpus import stopwords  # Stopwords for text processing\n",
        "from nltk.stem import WordNetLemmatizer  # Lemmatization for text processing\n",
        "from nltk.tokenize import word_tokenize, TreebankWordTokenizer  # Tokenization for text processing\n",
        "nltk.download('punkt')\n",
        "nltk.download('wordnet')\n",
        "import unicodedata  # Unicode character normalization\n",
        "import contractions  # Expansion of contractions in text\n",
        "from sklearn.feature_extraction.text import TfidfVectorizer, CountVectorizer  # Text vectorization libraries\n",
        "\n",
        "# Import regular expressions and string manipulation module\n",
        "import re  # Regular expressions\n",
        "import string  # String manipulation\n",
        "import itertools  # Iteration tools\n",
        "from collections import Counter  # Collection data type\n",
        "\n",
        "# Libraries for data preparation and model building\n",
        "from sklearn.metrics import classification_report, f1_score, precision_score, recall_score, confusion_matrix  # Classification metrics\n",
        "from sklearn.model_selection import train_test_split, GridSearchCV  # Train-test split and grid search\n",
        "from sklearn.linear_model import LogisticRegression  # Logistic Regression classifier for machine learning\n",
        "from sklearn.tree import DecisionTreeClassifier  # Decision Tree classifier for machine learning\n",
        "from sklearn.ensemble import RandomForestClassifier  # Random Forest classifier for machine learning\n",
        "from sklearn.svm import LinearSVC, SVC  # Support Vector Machine classifiers\n",
        "from sklearn.naive_bayes import GaussianNB, MultinomialNB  # Naive Bayes classifiers\n",
        "from sklearn.ensemble import BaggingClassifier  # Bagging classifier\n",
        "from sklearn.ensemble import ExtraTreesClassifier  # Extra Trees classifier\n",
        "from sklearn.ensemble import VotingClassifier  # Voting classifier\n",
        "from xgboost import XGBClassifier  # Efficient and flexible gradient boosting library\n",
        "from catboost import CatBoostClassifier  # High-performance gradient boosting on decision trees library\n",
        "from scipy.sparse import hstack  # Used for stacking sparse matrices horizontally\n",
        "import pickle  # Serialization library\n",
        "from sklearn.utils import resample  # Resampling tool\n",
        "from sklearn import feature_selection  # Feature selection module\n",
        "from sklearn.feature_selection import f_classif  # Feature selection using F-statistic\n",
        "from mlxtend.feature_selection import SequentialFeatureSelector  # Sequential feature selection\n",
        "from sklearn import preprocessing  # Data preprocessing\n",
        "import pickle  # Serialization library\n",
        "import tensorflow as tf  # TensorFlow for neural net\n",
        "from tensorflow.keras.layers import Dense  # Dense layer in Keras\n",
        "from tensorflow.keras.models import Sequential  # Sequential model in Keras\n",
        "from tensorflow.keras.utils import to_categorical  # Conversion to categorical data\n",
        "\n",
        "# Feature selection Libraries:\n",
        "from sklearn.feature_selection import SelectKBest  # To reduce features\n",
        "from sklearn.feature_selection import chi2  # Used to estimate which features are most impactful\n",
        "\n",
        "# Global Constants for reproducibility and consistency\n",
        "TRAIN_TEST_SPLIT_VAR = 0.2  # Ratio for train-test split\n",
        "RAND_STATE = 42  # Random seed for reproducibility\n",
        "MAX_TEXT_FEATURES = 5000  # Maximum number of text features for all algorithms with exceptions listed below\n",
        "RAD_SVC_Text_Features = 1000  # Specifically for use in radial SVC\n",
        "NN_Text_Features = 1000  # Specifically for use in neural net\n",
        "XGB_Text_Features = 1000  # Specifically for use in XGBoost algorithm\n",
        "EXTRA_Text_Features = 1000  # Specifically for use in Extra Trees algorithm\n",
        "BAG_Text_Features = 1000  # Specifically for use in Bagging algorithm\n",
        "VEC_MIN_WORD_TO_REMOVE = 3  # Remove words that occur less than this value in the dataset\n",
        "\n",
        "# Flags for notebook Execution\n",
        "COMET_FLAG = False  # To gauge whether to commit experiments to Comet ML\n",
        "VECTORIZER_TO_USE = \"tfidf\"  # Chooses between TfIDF vectorizer or Count Vectorizer - accepted values are \"tfidf\" or \"count\""
      ]
    },
    {
      "cell_type": "markdown",
      "metadata": {
        "id": "6XfC5bT9K1iz"
      },
      "source": [
        "<a id=\"three\"></a>\n",
        "## 3. Loading of Data\n",
        "<a class=\"anchor\" id=\"1.1\"></a>\n",
        "<a href=#cont>Back to Table of Contents</a>\n",
        "\n",
        "---\n",
        "    \n",
        "| ⚡ Description: data loading ⚡ |\n",
        "| :--------------------------- |\n",
        "| In this section, we will load our datasets. |\n",
        "\n",
        "---"
      ]
    },
    {
      "cell_type": "markdown",
      "metadata": {
        "id": "6GgzmS9ZK_jr"
      },
      "source": [
        "Let's begin by loading our data into a DataFrame:"
      ]
    },
    {
      "cell_type": "code",
      "execution_count": 5,
      "metadata": {
        "colab": {
          "base_uri": "https://localhost:8080/",
          "height": 390
        },
        "id": "efdF8po7LAc_",
        "outputId": "f2d2a886-bb88-4139-cd3a-371508ba2345"
      },
      "outputs": [],
      "source": [
        "# Read training data from CSV file into a DataFrame\n",
        "df_genome_scores = pd.read_csv('genome_scores.csv')\n",
        "\n",
        "df_genome_tags = pd.read_csv('genome_tags.csv')\n",
        "\n",
        "df_imdb_data = pd.read_csv('imdb_data.csv')\n",
        "\n",
        "df_links = pd.read_csv('links.csv')\n",
        "\n",
        "df_movies = pd.read_csv('movies.csv')\n",
        "\n",
        "df_tags = pd.read_csv('tags.csv')\n",
        "\n",
        "df_train = pd.read_csv('train.csv')\n",
        "\n",
        "# Read test from CSV file into a DataFrame\n",
        "df_test = pd.read_csv('test.csv')"
      ]
    },
    {
      "cell_type": "markdown",
      "metadata": {
        "id": "LA44zvbaPgLr"
      },
      "source": [
        "<a id=\"four\"></a>\n",
        "## 4. Exploratory Data Analysis\n",
        "<a class=\"anchor\" id=\"1.1\"></a>\n",
        "<a href=#cont>Back to Table of Contents</a>\n",
        "\n",
        "---\n",
        "    \n",
        "| ⚡ Description: EDA process ⚡ |\n",
        "| :--------------------------- |\n",
        "| In this section, we will perform an in-depth analysis of all the variables in the DataFrame. |"
      ]
    },
    {
      "cell_type": "markdown",
      "metadata": {},
      "source": [
        "### **4.1. Data Overview:**"
      ]
    },
    {
      "cell_type": "code",
      "execution_count": 4,
      "metadata": {},
      "outputs": [
        {
          "data": {
            "text/html": [
              "<div>\n",
              "<style scoped>\n",
              "    .dataframe tbody tr th:only-of-type {\n",
              "        vertical-align: middle;\n",
              "    }\n",
              "\n",
              "    .dataframe tbody tr th {\n",
              "        vertical-align: top;\n",
              "    }\n",
              "\n",
              "    .dataframe thead th {\n",
              "        text-align: right;\n",
              "    }\n",
              "</style>\n",
              "<table border=\"1\" class=\"dataframe\">\n",
              "  <thead>\n",
              "    <tr style=\"text-align: right;\">\n",
              "      <th></th>\n",
              "      <th>movieId</th>\n",
              "      <th>tagId</th>\n",
              "      <th>relevance</th>\n",
              "    </tr>\n",
              "  </thead>\n",
              "  <tbody>\n",
              "    <tr>\n",
              "      <th>0</th>\n",
              "      <td>1</td>\n",
              "      <td>1</td>\n",
              "      <td>0.02875</td>\n",
              "    </tr>\n",
              "    <tr>\n",
              "      <th>1</th>\n",
              "      <td>1</td>\n",
              "      <td>2</td>\n",
              "      <td>0.02375</td>\n",
              "    </tr>\n",
              "    <tr>\n",
              "      <th>2</th>\n",
              "      <td>1</td>\n",
              "      <td>3</td>\n",
              "      <td>0.06250</td>\n",
              "    </tr>\n",
              "    <tr>\n",
              "      <th>3</th>\n",
              "      <td>1</td>\n",
              "      <td>4</td>\n",
              "      <td>0.07575</td>\n",
              "    </tr>\n",
              "    <tr>\n",
              "      <th>4</th>\n",
              "      <td>1</td>\n",
              "      <td>5</td>\n",
              "      <td>0.14075</td>\n",
              "    </tr>\n",
              "  </tbody>\n",
              "</table>\n",
              "</div>"
            ],
            "text/plain": [
              "   movieId  tagId  relevance\n",
              "0        1      1    0.02875\n",
              "1        1      2    0.02375\n",
              "2        1      3    0.06250\n",
              "3        1      4    0.07575\n",
              "4        1      5    0.14075"
            ]
          },
          "execution_count": 4,
          "metadata": {},
          "output_type": "execute_result"
        }
      ],
      "source": [
        "df_genome_scores.head()"
      ]
    },
    {
      "cell_type": "code",
      "execution_count": 14,
      "metadata": {},
      "outputs": [
        {
          "data": {
            "text/plain": [
              "(15584448, 3)"
            ]
          },
          "execution_count": 14,
          "metadata": {},
          "output_type": "execute_result"
        }
      ],
      "source": [
        "df_genome_scores.shape"
      ]
    },
    {
      "cell_type": "code",
      "execution_count": 26,
      "metadata": {},
      "outputs": [
        {
          "data": {
            "application/vnd.jupyter.widget-view+json": {
              "model_id": "9d702cb808784067bf27b4948e80e93b",
              "version_major": 2,
              "version_minor": 0
            },
            "text/plain": [
              "                                             |          | [  0%]   00:00 -> (? left)"
            ]
          },
          "metadata": {},
          "output_type": "display_data"
        },
        {
          "name": "stdout",
          "output_type": "stream",
          "text": [
            "Report report.html was generated! NOTEBOOK/COLAB USERS: the web browser MAY not pop up, regardless, the report IS saved in your notebook/colab files.\n",
            "ERROR: comet_ml is installed, but not configured properly (e.g. check API key setup). HTML reports will not be uploaded.\n"
          ]
        }
      ],
      "source": [
        "analyze_report = sv.analyze(df_genome_scores)\n",
        "analyze_report.show_html('report.html', open_browser=True)"
      ]
    },
    {
      "cell_type": "code",
      "execution_count": 34,
      "metadata": {},
      "outputs": [
        {
          "data": {
            "text/html": [
              "<div>\n",
              "<style scoped>\n",
              "    .dataframe tbody tr th:only-of-type {\n",
              "        vertical-align: middle;\n",
              "    }\n",
              "\n",
              "    .dataframe tbody tr th {\n",
              "        vertical-align: top;\n",
              "    }\n",
              "\n",
              "    .dataframe thead th {\n",
              "        text-align: right;\n",
              "    }\n",
              "</style>\n",
              "<table border=\"1\" class=\"dataframe\">\n",
              "  <thead>\n",
              "    <tr style=\"text-align: right;\">\n",
              "      <th></th>\n",
              "      <th>tagId</th>\n",
              "      <th>tag</th>\n",
              "    </tr>\n",
              "  </thead>\n",
              "  <tbody>\n",
              "    <tr>\n",
              "      <th>0</th>\n",
              "      <td>1</td>\n",
              "      <td>007</td>\n",
              "    </tr>\n",
              "    <tr>\n",
              "      <th>1</th>\n",
              "      <td>2</td>\n",
              "      <td>007 (series)</td>\n",
              "    </tr>\n",
              "    <tr>\n",
              "      <th>2</th>\n",
              "      <td>3</td>\n",
              "      <td>18th century</td>\n",
              "    </tr>\n",
              "    <tr>\n",
              "      <th>3</th>\n",
              "      <td>4</td>\n",
              "      <td>1920s</td>\n",
              "    </tr>\n",
              "    <tr>\n",
              "      <th>4</th>\n",
              "      <td>5</td>\n",
              "      <td>1930s</td>\n",
              "    </tr>\n",
              "    <tr>\n",
              "      <th>...</th>\n",
              "      <td>...</td>\n",
              "      <td>...</td>\n",
              "    </tr>\n",
              "    <tr>\n",
              "      <th>1123</th>\n",
              "      <td>1124</td>\n",
              "      <td>writing</td>\n",
              "    </tr>\n",
              "    <tr>\n",
              "      <th>1124</th>\n",
              "      <td>1125</td>\n",
              "      <td>wuxia</td>\n",
              "    </tr>\n",
              "    <tr>\n",
              "      <th>1125</th>\n",
              "      <td>1126</td>\n",
              "      <td>wwii</td>\n",
              "    </tr>\n",
              "    <tr>\n",
              "      <th>1126</th>\n",
              "      <td>1127</td>\n",
              "      <td>zombie</td>\n",
              "    </tr>\n",
              "    <tr>\n",
              "      <th>1127</th>\n",
              "      <td>1128</td>\n",
              "      <td>zombies</td>\n",
              "    </tr>\n",
              "  </tbody>\n",
              "</table>\n",
              "<p>1128 rows × 2 columns</p>\n",
              "</div>"
            ],
            "text/plain": [
              "      tagId           tag\n",
              "0         1           007\n",
              "1         2  007 (series)\n",
              "2         3  18th century\n",
              "3         4         1920s\n",
              "4         5         1930s\n",
              "...     ...           ...\n",
              "1123   1124       writing\n",
              "1124   1125         wuxia\n",
              "1125   1126          wwii\n",
              "1126   1127        zombie\n",
              "1127   1128       zombies\n",
              "\n",
              "[1128 rows x 2 columns]"
            ]
          },
          "execution_count": 34,
          "metadata": {},
          "output_type": "execute_result"
        }
      ],
      "source": [
        "df_genome_tags"
      ]
    },
    {
      "cell_type": "code",
      "execution_count": 15,
      "metadata": {},
      "outputs": [
        {
          "data": {
            "text/plain": [
              "(1128, 2)"
            ]
          },
          "execution_count": 15,
          "metadata": {},
          "output_type": "execute_result"
        }
      ],
      "source": [
        "df_genome_tags.shape"
      ]
    },
    {
      "cell_type": "code",
      "execution_count": 27,
      "metadata": {},
      "outputs": [
        {
          "data": {
            "application/vnd.jupyter.widget-view+json": {
              "model_id": "a5f7eacd181b49ef891be74932c849a3",
              "version_major": 2,
              "version_minor": 0
            },
            "text/plain": [
              "                                             |          | [  0%]   00:00 -> (? left)"
            ]
          },
          "metadata": {},
          "output_type": "display_data"
        },
        {
          "name": "stdout",
          "output_type": "stream",
          "text": [
            "Report report.html was generated! NOTEBOOK/COLAB USERS: the web browser MAY not pop up, regardless, the report IS saved in your notebook/colab files.\n",
            "ERROR: comet_ml is installed, but not configured properly (e.g. check API key setup). HTML reports will not be uploaded.\n"
          ]
        }
      ],
      "source": [
        "analyze_report = sv.analyze(df_genome_tags)\n",
        "analyze_report.show_html('report.html', open_browser=True)"
      ]
    },
    {
      "cell_type": "code",
      "execution_count": 7,
      "metadata": {},
      "outputs": [
        {
          "data": {
            "text/html": [
              "<div>\n",
              "<style scoped>\n",
              "    .dataframe tbody tr th:only-of-type {\n",
              "        vertical-align: middle;\n",
              "    }\n",
              "\n",
              "    .dataframe tbody tr th {\n",
              "        vertical-align: top;\n",
              "    }\n",
              "\n",
              "    .dataframe thead th {\n",
              "        text-align: right;\n",
              "    }\n",
              "</style>\n",
              "<table border=\"1\" class=\"dataframe\">\n",
              "  <thead>\n",
              "    <tr style=\"text-align: right;\">\n",
              "      <th></th>\n",
              "      <th>movieId</th>\n",
              "      <th>title_cast</th>\n",
              "      <th>director</th>\n",
              "      <th>runtime</th>\n",
              "      <th>budget</th>\n",
              "      <th>plot_keywords</th>\n",
              "    </tr>\n",
              "  </thead>\n",
              "  <tbody>\n",
              "    <tr>\n",
              "      <th>0</th>\n",
              "      <td>1</td>\n",
              "      <td>Tom Hanks|Tim Allen|Don Rickles|Jim Varney|Wal...</td>\n",
              "      <td>John Lasseter</td>\n",
              "      <td>81.0</td>\n",
              "      <td>$30,000,000</td>\n",
              "      <td>toy|rivalry|cowboy|cgi animation</td>\n",
              "    </tr>\n",
              "    <tr>\n",
              "      <th>1</th>\n",
              "      <td>2</td>\n",
              "      <td>Robin Williams|Jonathan Hyde|Kirsten Dunst|Bra...</td>\n",
              "      <td>Jonathan Hensleigh</td>\n",
              "      <td>104.0</td>\n",
              "      <td>$65,000,000</td>\n",
              "      <td>board game|adventurer|fight|game</td>\n",
              "    </tr>\n",
              "    <tr>\n",
              "      <th>2</th>\n",
              "      <td>3</td>\n",
              "      <td>Walter Matthau|Jack Lemmon|Sophia Loren|Ann-Ma...</td>\n",
              "      <td>Mark Steven Johnson</td>\n",
              "      <td>101.0</td>\n",
              "      <td>$25,000,000</td>\n",
              "      <td>boat|lake|neighbor|rivalry</td>\n",
              "    </tr>\n",
              "    <tr>\n",
              "      <th>3</th>\n",
              "      <td>4</td>\n",
              "      <td>Whitney Houston|Angela Bassett|Loretta Devine|...</td>\n",
              "      <td>Terry McMillan</td>\n",
              "      <td>124.0</td>\n",
              "      <td>$16,000,000</td>\n",
              "      <td>black american|husband wife relationship|betra...</td>\n",
              "    </tr>\n",
              "    <tr>\n",
              "      <th>4</th>\n",
              "      <td>5</td>\n",
              "      <td>Steve Martin|Diane Keaton|Martin Short|Kimberl...</td>\n",
              "      <td>Albert Hackett</td>\n",
              "      <td>106.0</td>\n",
              "      <td>$30,000,000</td>\n",
              "      <td>fatherhood|doberman|dog|mansion</td>\n",
              "    </tr>\n",
              "  </tbody>\n",
              "</table>\n",
              "</div>"
            ],
            "text/plain": [
              "   movieId                                         title_cast  \\\n",
              "0        1  Tom Hanks|Tim Allen|Don Rickles|Jim Varney|Wal...   \n",
              "1        2  Robin Williams|Jonathan Hyde|Kirsten Dunst|Bra...   \n",
              "2        3  Walter Matthau|Jack Lemmon|Sophia Loren|Ann-Ma...   \n",
              "3        4  Whitney Houston|Angela Bassett|Loretta Devine|...   \n",
              "4        5  Steve Martin|Diane Keaton|Martin Short|Kimberl...   \n",
              "\n",
              "              director  runtime       budget  \\\n",
              "0        John Lasseter     81.0  $30,000,000   \n",
              "1   Jonathan Hensleigh    104.0  $65,000,000   \n",
              "2  Mark Steven Johnson    101.0  $25,000,000   \n",
              "3       Terry McMillan    124.0  $16,000,000   \n",
              "4       Albert Hackett    106.0  $30,000,000   \n",
              "\n",
              "                                       plot_keywords  \n",
              "0                   toy|rivalry|cowboy|cgi animation  \n",
              "1                   board game|adventurer|fight|game  \n",
              "2                         boat|lake|neighbor|rivalry  \n",
              "3  black american|husband wife relationship|betra...  \n",
              "4                    fatherhood|doberman|dog|mansion  "
            ]
          },
          "execution_count": 7,
          "metadata": {},
          "output_type": "execute_result"
        }
      ],
      "source": [
        "df_imdb_data.head()"
      ]
    },
    {
      "cell_type": "code",
      "execution_count": 16,
      "metadata": {},
      "outputs": [
        {
          "data": {
            "text/plain": [
              "(27278, 6)"
            ]
          },
          "execution_count": 16,
          "metadata": {},
          "output_type": "execute_result"
        }
      ],
      "source": [
        "df_imdb_data.shape"
      ]
    },
    {
      "cell_type": "code",
      "execution_count": 28,
      "metadata": {},
      "outputs": [
        {
          "data": {
            "application/vnd.jupyter.widget-view+json": {
              "model_id": "816c38e0bc9e4ee39475a77ba00cb972",
              "version_major": 2,
              "version_minor": 0
            },
            "text/plain": [
              "                                             |          | [  0%]   00:00 -> (? left)"
            ]
          },
          "metadata": {},
          "output_type": "display_data"
        },
        {
          "name": "stdout",
          "output_type": "stream",
          "text": [
            "Report report.html was generated! NOTEBOOK/COLAB USERS: the web browser MAY not pop up, regardless, the report IS saved in your notebook/colab files.\n",
            "ERROR: comet_ml is installed, but not configured properly (e.g. check API key setup). HTML reports will not be uploaded.\n"
          ]
        }
      ],
      "source": [
        "analyze_report = sv.analyze(df_imdb_data)\n",
        "analyze_report.show_html('report.html', open_browser=True)"
      ]
    },
    {
      "cell_type": "code",
      "execution_count": 8,
      "metadata": {},
      "outputs": [
        {
          "data": {
            "text/html": [
              "<div>\n",
              "<style scoped>\n",
              "    .dataframe tbody tr th:only-of-type {\n",
              "        vertical-align: middle;\n",
              "    }\n",
              "\n",
              "    .dataframe tbody tr th {\n",
              "        vertical-align: top;\n",
              "    }\n",
              "\n",
              "    .dataframe thead th {\n",
              "        text-align: right;\n",
              "    }\n",
              "</style>\n",
              "<table border=\"1\" class=\"dataframe\">\n",
              "  <thead>\n",
              "    <tr style=\"text-align: right;\">\n",
              "      <th></th>\n",
              "      <th>movieId</th>\n",
              "      <th>imdbId</th>\n",
              "      <th>tmdbId</th>\n",
              "    </tr>\n",
              "  </thead>\n",
              "  <tbody>\n",
              "    <tr>\n",
              "      <th>0</th>\n",
              "      <td>1</td>\n",
              "      <td>114709</td>\n",
              "      <td>862.0</td>\n",
              "    </tr>\n",
              "    <tr>\n",
              "      <th>1</th>\n",
              "      <td>2</td>\n",
              "      <td>113497</td>\n",
              "      <td>8844.0</td>\n",
              "    </tr>\n",
              "    <tr>\n",
              "      <th>2</th>\n",
              "      <td>3</td>\n",
              "      <td>113228</td>\n",
              "      <td>15602.0</td>\n",
              "    </tr>\n",
              "    <tr>\n",
              "      <th>3</th>\n",
              "      <td>4</td>\n",
              "      <td>114885</td>\n",
              "      <td>31357.0</td>\n",
              "    </tr>\n",
              "    <tr>\n",
              "      <th>4</th>\n",
              "      <td>5</td>\n",
              "      <td>113041</td>\n",
              "      <td>11862.0</td>\n",
              "    </tr>\n",
              "  </tbody>\n",
              "</table>\n",
              "</div>"
            ],
            "text/plain": [
              "   movieId  imdbId   tmdbId\n",
              "0        1  114709    862.0\n",
              "1        2  113497   8844.0\n",
              "2        3  113228  15602.0\n",
              "3        4  114885  31357.0\n",
              "4        5  113041  11862.0"
            ]
          },
          "execution_count": 8,
          "metadata": {},
          "output_type": "execute_result"
        }
      ],
      "source": [
        "df_links.head()"
      ]
    },
    {
      "cell_type": "code",
      "execution_count": 17,
      "metadata": {},
      "outputs": [
        {
          "data": {
            "text/plain": [
              "(62423, 3)"
            ]
          },
          "execution_count": 17,
          "metadata": {},
          "output_type": "execute_result"
        }
      ],
      "source": [
        "df_links.shape"
      ]
    },
    {
      "cell_type": "code",
      "execution_count": 29,
      "metadata": {},
      "outputs": [
        {
          "data": {
            "application/vnd.jupyter.widget-view+json": {
              "model_id": "938ee3c9c4a94fe0985504cb31cf91f1",
              "version_major": 2,
              "version_minor": 0
            },
            "text/plain": [
              "                                             |          | [  0%]   00:00 -> (? left)"
            ]
          },
          "metadata": {},
          "output_type": "display_data"
        },
        {
          "name": "stdout",
          "output_type": "stream",
          "text": [
            "Report report.html was generated! NOTEBOOK/COLAB USERS: the web browser MAY not pop up, regardless, the report IS saved in your notebook/colab files.\n",
            "ERROR: comet_ml is installed, but not configured properly (e.g. check API key setup). HTML reports will not be uploaded.\n"
          ]
        }
      ],
      "source": [
        "analyze_report = sv.analyze(df_links)\n",
        "analyze_report.show_html('report.html', open_browser=True)"
      ]
    },
    {
      "cell_type": "code",
      "execution_count": 9,
      "metadata": {},
      "outputs": [
        {
          "data": {
            "text/html": [
              "<div>\n",
              "<style scoped>\n",
              "    .dataframe tbody tr th:only-of-type {\n",
              "        vertical-align: middle;\n",
              "    }\n",
              "\n",
              "    .dataframe tbody tr th {\n",
              "        vertical-align: top;\n",
              "    }\n",
              "\n",
              "    .dataframe thead th {\n",
              "        text-align: right;\n",
              "    }\n",
              "</style>\n",
              "<table border=\"1\" class=\"dataframe\">\n",
              "  <thead>\n",
              "    <tr style=\"text-align: right;\">\n",
              "      <th></th>\n",
              "      <th>movieId</th>\n",
              "      <th>title</th>\n",
              "      <th>genres</th>\n",
              "    </tr>\n",
              "  </thead>\n",
              "  <tbody>\n",
              "    <tr>\n",
              "      <th>0</th>\n",
              "      <td>1</td>\n",
              "      <td>Toy Story (1995)</td>\n",
              "      <td>Adventure|Animation|Children|Comedy|Fantasy</td>\n",
              "    </tr>\n",
              "    <tr>\n",
              "      <th>1</th>\n",
              "      <td>2</td>\n",
              "      <td>Jumanji (1995)</td>\n",
              "      <td>Adventure|Children|Fantasy</td>\n",
              "    </tr>\n",
              "    <tr>\n",
              "      <th>2</th>\n",
              "      <td>3</td>\n",
              "      <td>Grumpier Old Men (1995)</td>\n",
              "      <td>Comedy|Romance</td>\n",
              "    </tr>\n",
              "    <tr>\n",
              "      <th>3</th>\n",
              "      <td>4</td>\n",
              "      <td>Waiting to Exhale (1995)</td>\n",
              "      <td>Comedy|Drama|Romance</td>\n",
              "    </tr>\n",
              "    <tr>\n",
              "      <th>4</th>\n",
              "      <td>5</td>\n",
              "      <td>Father of the Bride Part II (1995)</td>\n",
              "      <td>Comedy</td>\n",
              "    </tr>\n",
              "  </tbody>\n",
              "</table>\n",
              "</div>"
            ],
            "text/plain": [
              "   movieId                               title  \\\n",
              "0        1                    Toy Story (1995)   \n",
              "1        2                      Jumanji (1995)   \n",
              "2        3             Grumpier Old Men (1995)   \n",
              "3        4            Waiting to Exhale (1995)   \n",
              "4        5  Father of the Bride Part II (1995)   \n",
              "\n",
              "                                        genres  \n",
              "0  Adventure|Animation|Children|Comedy|Fantasy  \n",
              "1                   Adventure|Children|Fantasy  \n",
              "2                               Comedy|Romance  \n",
              "3                         Comedy|Drama|Romance  \n",
              "4                                       Comedy  "
            ]
          },
          "execution_count": 9,
          "metadata": {},
          "output_type": "execute_result"
        }
      ],
      "source": [
        "df_movies.head()"
      ]
    },
    {
      "cell_type": "code",
      "execution_count": 18,
      "metadata": {},
      "outputs": [
        {
          "data": {
            "text/plain": [
              "(62423, 3)"
            ]
          },
          "execution_count": 18,
          "metadata": {},
          "output_type": "execute_result"
        }
      ],
      "source": [
        "df_movies.shape"
      ]
    },
    {
      "cell_type": "code",
      "execution_count": 30,
      "metadata": {},
      "outputs": [
        {
          "data": {
            "application/vnd.jupyter.widget-view+json": {
              "model_id": "3fa4ee73f5b444949fec631061c40486",
              "version_major": 2,
              "version_minor": 0
            },
            "text/plain": [
              "                                             |          | [  0%]   00:00 -> (? left)"
            ]
          },
          "metadata": {},
          "output_type": "display_data"
        },
        {
          "name": "stdout",
          "output_type": "stream",
          "text": [
            "Report report.html was generated! NOTEBOOK/COLAB USERS: the web browser MAY not pop up, regardless, the report IS saved in your notebook/colab files.\n",
            "ERROR: comet_ml is installed, but not configured properly (e.g. check API key setup). HTML reports will not be uploaded.\n"
          ]
        }
      ],
      "source": [
        "analyze_report = sv.analyze(df_movies)\n",
        "analyze_report.show_html('report.html', open_browser=True)"
      ]
    },
    {
      "cell_type": "code",
      "execution_count": 19,
      "metadata": {},
      "outputs": [
        {
          "data": {
            "text/html": [
              "<div>\n",
              "<style scoped>\n",
              "    .dataframe tbody tr th:only-of-type {\n",
              "        vertical-align: middle;\n",
              "    }\n",
              "\n",
              "    .dataframe tbody tr th {\n",
              "        vertical-align: top;\n",
              "    }\n",
              "\n",
              "    .dataframe thead th {\n",
              "        text-align: right;\n",
              "    }\n",
              "</style>\n",
              "<table border=\"1\" class=\"dataframe\">\n",
              "  <thead>\n",
              "    <tr style=\"text-align: right;\">\n",
              "      <th></th>\n",
              "      <th>userId</th>\n",
              "      <th>movieId</th>\n",
              "      <th>tag</th>\n",
              "      <th>timestamp</th>\n",
              "    </tr>\n",
              "  </thead>\n",
              "  <tbody>\n",
              "    <tr>\n",
              "      <th>0</th>\n",
              "      <td>3</td>\n",
              "      <td>260</td>\n",
              "      <td>classic</td>\n",
              "      <td>1439472355</td>\n",
              "    </tr>\n",
              "    <tr>\n",
              "      <th>1</th>\n",
              "      <td>3</td>\n",
              "      <td>260</td>\n",
              "      <td>sci-fi</td>\n",
              "      <td>1439472256</td>\n",
              "    </tr>\n",
              "    <tr>\n",
              "      <th>2</th>\n",
              "      <td>4</td>\n",
              "      <td>1732</td>\n",
              "      <td>dark comedy</td>\n",
              "      <td>1573943598</td>\n",
              "    </tr>\n",
              "    <tr>\n",
              "      <th>3</th>\n",
              "      <td>4</td>\n",
              "      <td>1732</td>\n",
              "      <td>great dialogue</td>\n",
              "      <td>1573943604</td>\n",
              "    </tr>\n",
              "    <tr>\n",
              "      <th>4</th>\n",
              "      <td>4</td>\n",
              "      <td>7569</td>\n",
              "      <td>so bad it's good</td>\n",
              "      <td>1573943455</td>\n",
              "    </tr>\n",
              "  </tbody>\n",
              "</table>\n",
              "</div>"
            ],
            "text/plain": [
              "   userId  movieId               tag   timestamp\n",
              "0       3      260           classic  1439472355\n",
              "1       3      260            sci-fi  1439472256\n",
              "2       4     1732       dark comedy  1573943598\n",
              "3       4     1732    great dialogue  1573943604\n",
              "4       4     7569  so bad it's good  1573943455"
            ]
          },
          "execution_count": 19,
          "metadata": {},
          "output_type": "execute_result"
        }
      ],
      "source": [
        "df_tags.head()"
      ]
    },
    {
      "cell_type": "code",
      "execution_count": 20,
      "metadata": {},
      "outputs": [
        {
          "data": {
            "text/plain": [
              "(1093360, 4)"
            ]
          },
          "execution_count": 20,
          "metadata": {},
          "output_type": "execute_result"
        }
      ],
      "source": [
        "df_tags.shape"
      ]
    },
    {
      "cell_type": "code",
      "execution_count": 31,
      "metadata": {},
      "outputs": [
        {
          "data": {
            "application/vnd.jupyter.widget-view+json": {
              "model_id": "bdae0a635b824a289070673ff9de650f",
              "version_major": 2,
              "version_minor": 0
            },
            "text/plain": [
              "                                             |          | [  0%]   00:00 -> (? left)"
            ]
          },
          "metadata": {},
          "output_type": "display_data"
        },
        {
          "name": "stdout",
          "output_type": "stream",
          "text": [
            "Report report.html was generated! NOTEBOOK/COLAB USERS: the web browser MAY not pop up, regardless, the report IS saved in your notebook/colab files.\n",
            "ERROR: comet_ml is installed, but not configured properly (e.g. check API key setup). HTML reports will not be uploaded.\n"
          ]
        }
      ],
      "source": [
        "analyze_report = sv.analyze(df_tags)\n",
        "analyze_report.show_html('report.html', open_browser=True)"
      ]
    },
    {
      "cell_type": "code",
      "execution_count": 11,
      "metadata": {},
      "outputs": [
        {
          "data": {
            "text/html": [
              "<div>\n",
              "<style scoped>\n",
              "    .dataframe tbody tr th:only-of-type {\n",
              "        vertical-align: middle;\n",
              "    }\n",
              "\n",
              "    .dataframe tbody tr th {\n",
              "        vertical-align: top;\n",
              "    }\n",
              "\n",
              "    .dataframe thead th {\n",
              "        text-align: right;\n",
              "    }\n",
              "</style>\n",
              "<table border=\"1\" class=\"dataframe\">\n",
              "  <thead>\n",
              "    <tr style=\"text-align: right;\">\n",
              "      <th></th>\n",
              "      <th>userId</th>\n",
              "      <th>movieId</th>\n",
              "      <th>rating</th>\n",
              "      <th>timestamp</th>\n",
              "    </tr>\n",
              "  </thead>\n",
              "  <tbody>\n",
              "    <tr>\n",
              "      <th>0</th>\n",
              "      <td>5163</td>\n",
              "      <td>57669</td>\n",
              "      <td>4.0</td>\n",
              "      <td>1518349992</td>\n",
              "    </tr>\n",
              "    <tr>\n",
              "      <th>1</th>\n",
              "      <td>106343</td>\n",
              "      <td>5</td>\n",
              "      <td>4.5</td>\n",
              "      <td>1206238739</td>\n",
              "    </tr>\n",
              "    <tr>\n",
              "      <th>2</th>\n",
              "      <td>146790</td>\n",
              "      <td>5459</td>\n",
              "      <td>5.0</td>\n",
              "      <td>1076215539</td>\n",
              "    </tr>\n",
              "    <tr>\n",
              "      <th>3</th>\n",
              "      <td>106362</td>\n",
              "      <td>32296</td>\n",
              "      <td>2.0</td>\n",
              "      <td>1423042565</td>\n",
              "    </tr>\n",
              "    <tr>\n",
              "      <th>4</th>\n",
              "      <td>9041</td>\n",
              "      <td>366</td>\n",
              "      <td>3.0</td>\n",
              "      <td>833375837</td>\n",
              "    </tr>\n",
              "  </tbody>\n",
              "</table>\n",
              "</div>"
            ],
            "text/plain": [
              "   userId  movieId  rating   timestamp\n",
              "0    5163    57669     4.0  1518349992\n",
              "1  106343        5     4.5  1206238739\n",
              "2  146790     5459     5.0  1076215539\n",
              "3  106362    32296     2.0  1423042565\n",
              "4    9041      366     3.0   833375837"
            ]
          },
          "execution_count": 11,
          "metadata": {},
          "output_type": "execute_result"
        }
      ],
      "source": [
        "df_train.head()"
      ]
    },
    {
      "cell_type": "code",
      "execution_count": 21,
      "metadata": {},
      "outputs": [
        {
          "data": {
            "text/plain": [
              "(10000038, 4)"
            ]
          },
          "execution_count": 21,
          "metadata": {},
          "output_type": "execute_result"
        }
      ],
      "source": [
        "df_train.shape"
      ]
    },
    {
      "cell_type": "code",
      "execution_count": 32,
      "metadata": {},
      "outputs": [
        {
          "data": {
            "application/vnd.jupyter.widget-view+json": {
              "model_id": "52b3700766774c93a95d76d660c4eaae",
              "version_major": 2,
              "version_minor": 0
            },
            "text/plain": [
              "                                             |          | [  0%]   00:00 -> (? left)"
            ]
          },
          "metadata": {},
          "output_type": "display_data"
        },
        {
          "name": "stdout",
          "output_type": "stream",
          "text": [
            "Report report.html was generated! NOTEBOOK/COLAB USERS: the web browser MAY not pop up, regardless, the report IS saved in your notebook/colab files.\n",
            "ERROR: comet_ml is installed, but not configured properly (e.g. check API key setup). HTML reports will not be uploaded.\n"
          ]
        }
      ],
      "source": [
        "analyze_report = sv.analyze(df_train)\n",
        "analyze_report.show_html('report.html', open_browser=True)"
      ]
    },
    {
      "cell_type": "code",
      "execution_count": 12,
      "metadata": {},
      "outputs": [
        {
          "data": {
            "text/html": [
              "<div>\n",
              "<style scoped>\n",
              "    .dataframe tbody tr th:only-of-type {\n",
              "        vertical-align: middle;\n",
              "    }\n",
              "\n",
              "    .dataframe tbody tr th {\n",
              "        vertical-align: top;\n",
              "    }\n",
              "\n",
              "    .dataframe thead th {\n",
              "        text-align: right;\n",
              "    }\n",
              "</style>\n",
              "<table border=\"1\" class=\"dataframe\">\n",
              "  <thead>\n",
              "    <tr style=\"text-align: right;\">\n",
              "      <th></th>\n",
              "      <th>userId</th>\n",
              "      <th>movieId</th>\n",
              "    </tr>\n",
              "  </thead>\n",
              "  <tbody>\n",
              "    <tr>\n",
              "      <th>0</th>\n",
              "      <td>1</td>\n",
              "      <td>2011</td>\n",
              "    </tr>\n",
              "    <tr>\n",
              "      <th>1</th>\n",
              "      <td>1</td>\n",
              "      <td>4144</td>\n",
              "    </tr>\n",
              "    <tr>\n",
              "      <th>2</th>\n",
              "      <td>1</td>\n",
              "      <td>5767</td>\n",
              "    </tr>\n",
              "    <tr>\n",
              "      <th>3</th>\n",
              "      <td>1</td>\n",
              "      <td>6711</td>\n",
              "    </tr>\n",
              "    <tr>\n",
              "      <th>4</th>\n",
              "      <td>1</td>\n",
              "      <td>7318</td>\n",
              "    </tr>\n",
              "  </tbody>\n",
              "</table>\n",
              "</div>"
            ],
            "text/plain": [
              "   userId  movieId\n",
              "0       1     2011\n",
              "1       1     4144\n",
              "2       1     5767\n",
              "3       1     6711\n",
              "4       1     7318"
            ]
          },
          "execution_count": 12,
          "metadata": {},
          "output_type": "execute_result"
        }
      ],
      "source": [
        "df_test.head()"
      ]
    },
    {
      "cell_type": "code",
      "execution_count": 22,
      "metadata": {},
      "outputs": [
        {
          "data": {
            "text/plain": [
              "(5000019, 2)"
            ]
          },
          "execution_count": 22,
          "metadata": {},
          "output_type": "execute_result"
        }
      ],
      "source": [
        "df_test.shape"
      ]
    },
    {
      "cell_type": "code",
      "execution_count": 33,
      "metadata": {},
      "outputs": [
        {
          "data": {
            "text/html": [
              "<div>\n",
              "<style scoped>\n",
              "    .dataframe tbody tr th:only-of-type {\n",
              "        vertical-align: middle;\n",
              "    }\n",
              "\n",
              "    .dataframe tbody tr th {\n",
              "        vertical-align: top;\n",
              "    }\n",
              "\n",
              "    .dataframe thead th {\n",
              "        text-align: right;\n",
              "    }\n",
              "</style>\n",
              "<table border=\"1\" class=\"dataframe\">\n",
              "  <thead>\n",
              "    <tr style=\"text-align: right;\">\n",
              "      <th></th>\n",
              "      <th>movieId</th>\n",
              "      <th>title_cast</th>\n",
              "      <th>director</th>\n",
              "      <th>runtime</th>\n",
              "      <th>budget</th>\n",
              "      <th>plot_keywords</th>\n",
              "      <th>title</th>\n",
              "      <th>genres</th>\n",
              "      <th>imdbId</th>\n",
              "      <th>tmdbId</th>\n",
              "    </tr>\n",
              "  </thead>\n",
              "  <tbody>\n",
              "    <tr>\n",
              "      <th>0</th>\n",
              "      <td>1</td>\n",
              "      <td>Tom Hanks|Tim Allen|Don Rickles|Jim Varney|Wal...</td>\n",
              "      <td>John Lasseter</td>\n",
              "      <td>81.0</td>\n",
              "      <td>$30,000,000</td>\n",
              "      <td>toy|rivalry|cowboy|cgi animation</td>\n",
              "      <td>Toy Story (1995)</td>\n",
              "      <td>Adventure|Animation|Children|Comedy|Fantasy</td>\n",
              "      <td>114709</td>\n",
              "      <td>862.0</td>\n",
              "    </tr>\n",
              "    <tr>\n",
              "      <th>1</th>\n",
              "      <td>2</td>\n",
              "      <td>Robin Williams|Jonathan Hyde|Kirsten Dunst|Bra...</td>\n",
              "      <td>Jonathan Hensleigh</td>\n",
              "      <td>104.0</td>\n",
              "      <td>$65,000,000</td>\n",
              "      <td>board game|adventurer|fight|game</td>\n",
              "      <td>Jumanji (1995)</td>\n",
              "      <td>Adventure|Children|Fantasy</td>\n",
              "      <td>113497</td>\n",
              "      <td>8844.0</td>\n",
              "    </tr>\n",
              "    <tr>\n",
              "      <th>2</th>\n",
              "      <td>3</td>\n",
              "      <td>Walter Matthau|Jack Lemmon|Sophia Loren|Ann-Ma...</td>\n",
              "      <td>Mark Steven Johnson</td>\n",
              "      <td>101.0</td>\n",
              "      <td>$25,000,000</td>\n",
              "      <td>boat|lake|neighbor|rivalry</td>\n",
              "      <td>Grumpier Old Men (1995)</td>\n",
              "      <td>Comedy|Romance</td>\n",
              "      <td>113228</td>\n",
              "      <td>15602.0</td>\n",
              "    </tr>\n",
              "    <tr>\n",
              "      <th>3</th>\n",
              "      <td>4</td>\n",
              "      <td>Whitney Houston|Angela Bassett|Loretta Devine|...</td>\n",
              "      <td>Terry McMillan</td>\n",
              "      <td>124.0</td>\n",
              "      <td>$16,000,000</td>\n",
              "      <td>black american|husband wife relationship|betra...</td>\n",
              "      <td>Waiting to Exhale (1995)</td>\n",
              "      <td>Comedy|Drama|Romance</td>\n",
              "      <td>114885</td>\n",
              "      <td>31357.0</td>\n",
              "    </tr>\n",
              "    <tr>\n",
              "      <th>4</th>\n",
              "      <td>5</td>\n",
              "      <td>Steve Martin|Diane Keaton|Martin Short|Kimberl...</td>\n",
              "      <td>Albert Hackett</td>\n",
              "      <td>106.0</td>\n",
              "      <td>$30,000,000</td>\n",
              "      <td>fatherhood|doberman|dog|mansion</td>\n",
              "      <td>Father of the Bride Part II (1995)</td>\n",
              "      <td>Comedy</td>\n",
              "      <td>113041</td>\n",
              "      <td>11862.0</td>\n",
              "    </tr>\n",
              "  </tbody>\n",
              "</table>\n",
              "</div>"
            ],
            "text/plain": [
              "   movieId                                         title_cast  \\\n",
              "0        1  Tom Hanks|Tim Allen|Don Rickles|Jim Varney|Wal...   \n",
              "1        2  Robin Williams|Jonathan Hyde|Kirsten Dunst|Bra...   \n",
              "2        3  Walter Matthau|Jack Lemmon|Sophia Loren|Ann-Ma...   \n",
              "3        4  Whitney Houston|Angela Bassett|Loretta Devine|...   \n",
              "4        5  Steve Martin|Diane Keaton|Martin Short|Kimberl...   \n",
              "\n",
              "              director  runtime       budget  \\\n",
              "0        John Lasseter     81.0  $30,000,000   \n",
              "1   Jonathan Hensleigh    104.0  $65,000,000   \n",
              "2  Mark Steven Johnson    101.0  $25,000,000   \n",
              "3       Terry McMillan    124.0  $16,000,000   \n",
              "4       Albert Hackett    106.0  $30,000,000   \n",
              "\n",
              "                                       plot_keywords  \\\n",
              "0                   toy|rivalry|cowboy|cgi animation   \n",
              "1                   board game|adventurer|fight|game   \n",
              "2                         boat|lake|neighbor|rivalry   \n",
              "3  black american|husband wife relationship|betra...   \n",
              "4                    fatherhood|doberman|dog|mansion   \n",
              "\n",
              "                                title  \\\n",
              "0                    Toy Story (1995)   \n",
              "1                      Jumanji (1995)   \n",
              "2             Grumpier Old Men (1995)   \n",
              "3            Waiting to Exhale (1995)   \n",
              "4  Father of the Bride Part II (1995)   \n",
              "\n",
              "                                        genres  imdbId   tmdbId  \n",
              "0  Adventure|Animation|Children|Comedy|Fantasy  114709    862.0  \n",
              "1                   Adventure|Children|Fantasy  113497   8844.0  \n",
              "2                               Comedy|Romance  113228  15602.0  \n",
              "3                         Comedy|Drama|Romance  114885  31357.0  \n",
              "4                                       Comedy  113041  11862.0  "
            ]
          },
          "execution_count": 33,
          "metadata": {},
          "output_type": "execute_result"
        }
      ],
      "source": [
        "# Merge genome scores with tags\n",
        "merged_genome = pd.merge(df_genome_scores, df_genome_tags, on='tagId', how='inner')\n",
        "\n",
        "# Merge IMDb data with movies\n",
        "merged_imdb_movies = pd.merge(df_imdb_data, df_movies, on='movieId', how='inner')\n",
        "\n",
        "# Merge links with the combined dataset\n",
        "final_dataset = pd.merge(merged_imdb_movies, df_links, on='movieId', how='inner')\n",
        "\n",
        "# Display the first few rows of the final dataset\n",
        "final_dataset.head()"
      ]
    },
    {
      "cell_type": "markdown",
      "metadata": {
        "id": "jINNn8AzPqc4"
      },
      "source": [
        "<a id=\"five\"></a>\n",
        "## 5. Feature Engineering\n",
        "<a class=\"anchor\" id=\"1.1\"></a>\n",
        "<a href=#cont>Back to Table of Contents</a>\n",
        "\n",
        "---\n",
        "    \n",
        "| ⚡ Description: Data engineering ⚡ |\n",
        "| :--------------------------- |\n",
        "| In this section we will clean the dataset, and create new features - as identified in the EDA phase. |\n",
        "\n",
        "---"
      ]
    },
    {
      "cell_type": "markdown",
      "metadata": {
        "id": "j8BkNn6JP1PU"
      },
      "source": [
        "<a id=\"six\"></a>\n",
        "## 6. Modelling\n",
        "<a class=\"anchor\" id=\"1.1\"></a>\n",
        "<a href=#cont>Back to Table of Contents</a>\n",
        "\n",
        "---\n",
        "    \n",
        "| ⚡ Description: Modelling ⚡ |\n",
        "| :--------------------------- |\n",
        "| In this section, we will create models that are able to accurately recommend movies to users. |\n",
        "\n",
        "---"
      ]
    },
    {
      "cell_type": "markdown",
      "metadata": {
        "id": "36-wBCFHRfTy"
      },
      "source": [
        "<a id=\"seven\"></a>\n",
        "## 7. Model Performance\n",
        "<a class=\"anchor\" id=\"1.1\"></a>\n",
        "<a href=#cont>Back to Table of Contents</a>\n",
        "\n",
        "---\n",
        "    \n",
        "| ⚡ Description: Model performance ⚡ |\n",
        "| :--------------------------- |\n",
        "| In this section we will compare the relative performance of the various trained machine learning models on a holdout dataset and comment on what model is the best and why. |\n",
        "\n",
        "---"
      ]
    },
    {
      "cell_type": "markdown",
      "metadata": {
        "id": "WTgNyxqOR2Dg"
      },
      "source": [
        "<a id=\"eight\"></a>\n",
        "## 8. Model Explanations\n",
        "<a class=\"anchor\" id=\"1.1\"></a>\n",
        "<a href=#cont>Back to Table of Contents</a>\n",
        "\n",
        "---\n",
        "    \n",
        "| ⚡ Description: Model explanation ⚡ |\n",
        "| :--------------------------- |\n",
        "| In this section, we will compare the models and determine the best model to use. We will also discuss how the best performing model works in a simple way so that both technical and non-technical stakeholders can grasp the intuition behind the model's inner workings. |\n",
        "\n",
        "---"
      ]
    },
    {
      "cell_type": "markdown",
      "metadata": {
        "id": "GEE0MybHR_rK"
      },
      "source": [
        "<a id=\"nine\"></a>\n",
        "## 9. Conclusion\n",
        "<a class=\"anchor\" id=\"1.1\"></a>\n",
        "<a href=#cont>Back to Table of Contents</a>\n",
        "\n",
        "---\n",
        "    \n",
        "| ⚡ Description: Model explanation ⚡ |\n",
        "| :--------------------------- |\n",
        "| In this section, we will conclude the project. |\n",
        "\n",
        "---"
      ]
    },
    {
      "cell_type": "code",
      "execution_count": null,
      "metadata": {
        "id": "m7MBeZ13NngG"
      },
      "outputs": [],
      "source": []
    }
  ],
  "metadata": {
    "colab": {
      "provenance": []
    },
    "kernelspec": {
      "display_name": "Python 3",
      "name": "python3"
    },
    "language_info": {
      "codemirror_mode": {
        "name": "ipython",
        "version": 3
      },
      "file_extension": ".py",
      "mimetype": "text/x-python",
      "name": "python",
      "nbconvert_exporter": "python",
      "pygments_lexer": "ipython3",
      "version": "3.9.13"
    }
  },
  "nbformat": 4,
  "nbformat_minor": 0
}
