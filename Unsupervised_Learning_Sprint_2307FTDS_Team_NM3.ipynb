{
  "cells": [
    {
      "cell_type": "markdown",
      "metadata": {
        "id": "g4xxLVUqF3oC"
      },
      "source": [
        "# Movie Recommendation System\n",
        "\n",
        "© Explore Data Science Academy\n",
        "\n",
        "---\n",
        "### Honour Code\n",
        "\n",
        "I {**2307FTDS_team_NM3 Members**}, confirm - by submitting this document - that the solutions in this notebook are a result of my own work and that I abide by the [EDSA honour code](https://drive.google.com/file/d/1QDCjGZJ8-FmJE3bZdIQNwnJyQKPhHZBn/view?usp=sharing).\n",
        "\n",
        "Non-compliance with the honour code constitutes a material breach of contract.\n",
        "\n",
        "### Predict Overview: Twitter Sentiment Classification\n",
        "\n",
        "In today’s technology driven world, recommender systems are socially and economically critical for ensuring that individuals can make appropriate choices surrounding the content they engage with on a daily basis. One application where this is especially true surrounds movie content recommendations; where intelligent algorithms can help viewers find great titles from tens of thousands of options.\n",
        "\n",
        "With this context, EDSA is challenging you to construct a recommendation algorithm based on content or collaborative filtering, capable of accurately predicting how a user will rate a movie they have not yet viewed based on their historical preferences.\n",
        "\n",
        "Providing an accurate and robust solution to this challenge has immense economic potential, with users of the system being exposed to content they would like to view or purchase - generating revenue and platform affinity.\n",
        "\n",
        "2307FTDS_team_NM3 Members:\n",
        " 1.\n",
        " 2.\n",
        " 3.\n",
        " 4.\n",
        " 5. Christelle Coetzee\n",
        " 6."
      ]
    },
    {
      "cell_type": "markdown",
      "metadata": {
        "id": "sfSRv25II-xp"
      },
      "source": [
        "<a id=\"cont\"></a>\n",
        "\n",
        "## Table of Contents\n",
        "\n",
        "<a href=#one>1. Introduction</a>\n",
        "\n",
        "<a href=#two>2. Importing Packages</a>\n",
        "\n",
        "<a href=#three>3. Loading Data</a>\n",
        "\n",
        "<a href=#four>4. Exploratory Data Analysis (EDA)</a>\n",
        "\n",
        "<a href=#five>5. Feature Engineering</a>\n",
        "\n",
        "<a href=#six>6. Modeling</a>\n",
        "\n",
        "<a href=#seven>7. Model Performance</a>\n",
        "\n",
        "<a href=#eight>8. Model Explanations</a>\n",
        "\n",
        "<a href=#nine>9. Conclusion</a>"
      ]
    },
    {
      "cell_type": "markdown",
      "metadata": {
        "id": "ibOH0VUzJZFC"
      },
      "source": [
        " <a id=\"one\"></a>\n",
        "## 1. Introduction\n",
        "<a href=#cont>Back to Table of Contents</a>\n",
        "\n",
        "---\n",
        "    \n",
        "| ⚡ Description: Introduction ⚡ |\n",
        "| :--------------------------- |\n",
        "| In this section, we will introduce our institution and provide our problem statement. |"
      ]
    },
    {
      "cell_type": "markdown",
      "metadata": {
        "id": "v_f_ro2YJqPP"
      },
      "source": [
        "<a id=\"two\"></a>\n",
        "## 2. Import Packages and Libaries\n",
        "<a class=\"anchor\" id=\"1.1\"></a>\n",
        "<a href=#cont>Back to Table of Contents</a>\n",
        "\n",
        "---\n",
        "    \n",
        "| ⚡ Description: package importation⚡ |\n",
        "| :--------------------------- |\n",
        "| In this section we will import all the packages we will need in order to run our notebook. |\n",
        "\n",
        "---"
      ]
    },
    {
      "cell_type": "code",
      "execution_count": 2,
      "metadata": {
        "colab": {
          "base_uri": "https://localhost:8080/"
        },
        "id": "q_xseZWALZ0N",
        "outputId": "f7dcec76-9ab0-4b1b-ed82-e6f9edb142bd"
      },
      "outputs": [],
      "source": [
        "# Installations:\n",
        "\n",
        "# Uncomment and run the following commands to install necessary libraries:\n",
        "\n",
        "# Install Comet ML for experiment tracking\n",
        "#!pip install comet_ml\n",
        "\n",
        "# Install WordCloud for generating word clouds\n",
        "#!pip install wordcloud\n",
        "\n",
        "# Install Contractions for handling contractions in text data\n",
        "#!pip install contractions\n",
        "\n",
        "# Install CatBoost for CatBoost Classifier\n",
        "#!pip install catboost\n",
        "\n",
        "# Install XGBoost for XGBoost Classifier\n",
        "#!pip install xgboost\n",
        "\n",
        "# Install MLxtend for additional machine learning utilities\n",
        "#!pip install mlxtend\n",
        "\n",
        "# Install or upgrade TensorFlow for neural network models\n",
        "#!pip install --upgrade tensorflow"
      ]
    },
    {
      "cell_type": "code",
      "execution_count": 3,
      "metadata": {
        "colab": {
          "base_uri": "https://localhost:8080/"
        },
        "id": "Pn98I9_ELSx6",
        "outputId": "e05fd5ab-ce94-4dc3-e5ab-f0a15be2f0ee"
      },
      "outputs": [
        {
          "name": "stderr",
          "output_type": "stream",
          "text": [
            "[nltk_data] Downloading package punkt to\n",
            "[nltk_data]     C:\\Users\\T460\\AppData\\Roaming\\nltk_data...\n",
            "[nltk_data]   Package punkt is already up-to-date!\n",
            "[nltk_data] Downloading package wordnet to\n",
            "[nltk_data]     C:\\Users\\T460\\AppData\\Roaming\\nltk_data...\n",
            "[nltk_data]   Package wordnet is already up-to-date!\n"
          ]
        },
        {
          "name": "stdout",
          "output_type": "stream",
          "text": [
            "WARNING:tensorflow:From C:\\Users\\T460\\AppData\\Roaming\\Python\\Python39\\site-packages\\keras\\src\\losses.py:2976: The name tf.losses.sparse_softmax_cross_entropy is deprecated. Please use tf.compat.v1.losses.sparse_softmax_cross_entropy instead.\n",
            "\n"
          ]
        }
      ],
      "source": [
        "# Import necessary libraries\n",
        "import numpy as np  # Numerical operations library\n",
        "import pandas as pd  # Data manipulation and analysis library\n",
        "import matplotlib.pyplot as plt  # Plotting library\n",
        "import seaborn as sns  # Data visualization library based on Matplotlib\n",
        "%matplotlib inline\n",
        "from wordcloud import WordCloud  # Word cloud generation library\n",
        "import sweetviz as sv\n",
        "\n",
        "# Suppress warnings\n",
        "import warnings\n",
        "warnings.filterwarnings('ignore')\n",
        "\n",
        "# Import Comet ML for experiment tracking\n",
        "from comet_ml import Experiment  # Experiment tracking library\n",
        "\n",
        "# Import Natural Language Toolkit (nltk) for text processing\n",
        "import nltk  # Natural Language Toolkit\n",
        "from nltk.corpus import stopwords  # Stopwords for text processing\n",
        "from nltk.stem import WordNetLemmatizer  # Lemmatization for text processing\n",
        "from nltk.tokenize import word_tokenize, TreebankWordTokenizer  # Tokenization for text processing\n",
        "nltk.download('punkt')\n",
        "nltk.download('wordnet')\n",
        "import unicodedata  # Unicode character normalization\n",
        "import contractions  # Expansion of contractions in text\n",
        "from sklearn.feature_extraction.text import TfidfVectorizer, CountVectorizer  # Text vectorization libraries\n",
        "\n",
        "# Import regular expressions and string manipulation module\n",
        "import re  # Regular expressions\n",
        "import string  # String manipulation\n",
        "import itertools  # Iteration tools\n",
        "from collections import Counter  # Collection data type\n",
        "\n",
        "# Libraries for data preparation and model building\n",
        "from sklearn.metrics import classification_report, f1_score, precision_score, recall_score, confusion_matrix  # Classification metrics\n",
        "from sklearn.model_selection import train_test_split, GridSearchCV  # Train-test split and grid search\n",
        "from sklearn.linear_model import LogisticRegression  # Logistic Regression classifier for machine learning\n",
        "from sklearn.tree import DecisionTreeClassifier  # Decision Tree classifier for machine learning\n",
        "from sklearn.ensemble import RandomForestClassifier  # Random Forest classifier for machine learning\n",
        "from sklearn.svm import LinearSVC, SVC  # Support Vector Machine classifiers\n",
        "from sklearn.naive_bayes import GaussianNB, MultinomialNB  # Naive Bayes classifiers\n",
        "from sklearn.ensemble import BaggingClassifier  # Bagging classifier\n",
        "from sklearn.ensemble import ExtraTreesClassifier  # Extra Trees classifier\n",
        "from sklearn.ensemble import VotingClassifier  # Voting classifier\n",
        "from xgboost import XGBClassifier  # Efficient and flexible gradient boosting library\n",
        "from catboost import CatBoostClassifier  # High-performance gradient boosting on decision trees library\n",
        "from scipy.sparse import hstack  # Used for stacking sparse matrices horizontally\n",
        "import pickle  # Serialization library\n",
        "from sklearn.utils import resample  # Resampling tool\n",
        "from sklearn import feature_selection  # Feature selection module\n",
        "from sklearn.feature_selection import f_classif  # Feature selection using F-statistic\n",
        "from mlxtend.feature_selection import SequentialFeatureSelector  # Sequential feature selection\n",
        "from sklearn import preprocessing  # Data preprocessing\n",
        "import pickle  # Serialization library\n",
        "import tensorflow as tf  # TensorFlow for neural net\n",
        "from tensorflow.keras.layers import Dense  # Dense layer in Keras\n",
        "from tensorflow.keras.models import Sequential  # Sequential model in Keras\n",
        "from tensorflow.keras.utils import to_categorical  # Conversion to categorical data\n",
        "\n",
        "# Feature selection Libraries:\n",
        "from sklearn.feature_selection import SelectKBest  # To reduce features\n",
        "from sklearn.feature_selection import chi2  # Used to estimate which features are most impactful\n",
        "\n",
        "# Global Constants for reproducibility and consistency\n",
        "TRAIN_TEST_SPLIT_VAR = 0.2  # Ratio for train-test split\n",
        "RAND_STATE = 42  # Random seed for reproducibility\n",
        "MAX_TEXT_FEATURES = 5000  # Maximum number of text features for all algorithms with exceptions listed below\n",
        "RAD_SVC_Text_Features = 1000  # Specifically for use in radial SVC\n",
        "NN_Text_Features = 1000  # Specifically for use in neural net\n",
        "XGB_Text_Features = 1000  # Specifically for use in XGBoost algorithm\n",
        "EXTRA_Text_Features = 1000  # Specifically for use in Extra Trees algorithm\n",
        "BAG_Text_Features = 1000  # Specifically for use in Bagging algorithm\n",
        "VEC_MIN_WORD_TO_REMOVE = 3  # Remove words that occur less than this value in the dataset\n",
        "\n",
        "# Flags for notebook Execution\n",
        "COMET_FLAG = False  # To gauge whether to commit experiments to Comet ML\n",
        "VECTORIZER_TO_USE = \"tfidf\"  # Chooses between TfIDF vectorizer or Count Vectorizer - accepted values are \"tfidf\" or \"count\""
      ]
    },
    {
      "cell_type": "markdown",
      "metadata": {
        "id": "6XfC5bT9K1iz"
      },
      "source": [
        "<a id=\"three\"></a>\n",
        "## 3. Loading of Data\n",
        "<a class=\"anchor\" id=\"1.1\"></a>\n",
        "<a href=#cont>Back to Table of Contents</a>\n",
        "\n",
        "---\n",
        "    \n",
        "| ⚡ Description: data loading ⚡ |\n",
        "| :--------------------------- |\n",
        "| In this section, we will load our datasets. |\n",
        "\n",
        "---"
      ]
    },
    {
      "cell_type": "markdown",
      "metadata": {
        "id": "6GgzmS9ZK_jr"
      },
      "source": [
        "Let's begin by loading our data into a DataFrame:"
      ]
    },
    {
      "cell_type": "code",
      "execution_count": 4,
      "metadata": {
        "colab": {
          "base_uri": "https://localhost:8080/",
          "height": 390
        },
        "id": "efdF8po7LAc_",
        "outputId": "f2d2a886-bb88-4139-cd3a-371508ba2345"
      },
      "outputs": [],
      "source": [
        "# Read training data from CSV file into a DataFrame\n",
        "df_genome_scores = pd.read_csv('genome_scores.csv')\n",
        "\n",
        "df_genome_tags = pd.read_csv('genome_tags.csv')\n",
        "\n",
        "df_imdb_data = pd.read_csv('imdb_data.csv')\n",
        "\n",
        "df_links = pd.read_csv('links.csv')\n",
        "\n",
        "df_movies = pd.read_csv('movies.csv')\n",
        "\n",
        "df_tags = pd.read_csv('tags.csv')\n",
        "\n",
        "df_train = pd.read_csv('train.csv')\n",
        "\n",
        "# Read test from CSV file into a DataFrame\n",
        "df_test = pd.read_csv('test.csv')"
      ]
    },
    {
      "cell_type": "markdown",
      "metadata": {
        "id": "LA44zvbaPgLr"
      },
      "source": [
        "<a id=\"four\"></a>\n",
        "## 4. Exploratory Data Analysis\n",
        "<a class=\"anchor\" id=\"1.1\"></a>\n",
        "<a href=#cont>Back to Table of Contents</a>\n",
        "\n",
        "---\n",
        "    \n",
        "| ⚡ Description: EDA process ⚡ |\n",
        "| :--------------------------- |\n",
        "| In this section, we will perform an in-depth analysis of all the variables in the DataFrame. |"
      ]
    },
    {
      "cell_type": "markdown",
      "metadata": {},
      "source": [
        "### **4.1. Data Overview:**"
      ]
    },
    {
      "cell_type": "markdown",
      "metadata": {},
      "source": [
        "As we embark on the data overview phase, our objective is to delve into the foundational structure of the dataset. This exploration will encompass an examination of key aspects such as the dataset's shape, columns, and initial content, providing us with a comprehensive understanding of the basic characteristics inherent in our data."
      ]
    },
    {
      "cell_type": "markdown",
      "metadata": {},
      "source": [
        "#### **4.1.1. Data Investigation:**"
      ]
    },
    {
      "cell_type": "markdown",
      "metadata": {},
      "source": [
        "To commence our exploration of the dataset, we initiate a thorough examination of a segment of our data, aiming to identify and analyze the key variables under consideration. This initial step is fundamental to understanding the landscape of our dataset and laying the groundwork for subsequent analyses."
      ]
    },
    {
      "cell_type": "markdown",
      "metadata": {},
      "source": [
        "Since we have multiple databases, let's take a closer look at each one and what they encompass."
      ]
    },
    {
      "cell_type": "markdown",
      "metadata": {},
      "source": [
        "##### *4.1.1.1. `df_genome_scores`:*"
      ]
    },
    {
      "cell_type": "markdown",
      "metadata": {},
      "source": [
        "Let's commence by showcasing our dataset named `df_genome_scores`:"
      ]
    },
    {
      "cell_type": "code",
      "execution_count": 5,
      "metadata": {},
      "outputs": [
        {
          "data": {
            "text/html": [
              "<div>\n",
              "<style scoped>\n",
              "    .dataframe tbody tr th:only-of-type {\n",
              "        vertical-align: middle;\n",
              "    }\n",
              "\n",
              "    .dataframe tbody tr th {\n",
              "        vertical-align: top;\n",
              "    }\n",
              "\n",
              "    .dataframe thead th {\n",
              "        text-align: right;\n",
              "    }\n",
              "</style>\n",
              "<table border=\"1\" class=\"dataframe\">\n",
              "  <thead>\n",
              "    <tr style=\"text-align: right;\">\n",
              "      <th></th>\n",
              "      <th>movieId</th>\n",
              "      <th>tagId</th>\n",
              "      <th>relevance</th>\n",
              "    </tr>\n",
              "  </thead>\n",
              "  <tbody>\n",
              "    <tr>\n",
              "      <th>0</th>\n",
              "      <td>1</td>\n",
              "      <td>1</td>\n",
              "      <td>0.02875</td>\n",
              "    </tr>\n",
              "    <tr>\n",
              "      <th>1</th>\n",
              "      <td>1</td>\n",
              "      <td>2</td>\n",
              "      <td>0.02375</td>\n",
              "    </tr>\n",
              "    <tr>\n",
              "      <th>2</th>\n",
              "      <td>1</td>\n",
              "      <td>3</td>\n",
              "      <td>0.06250</td>\n",
              "    </tr>\n",
              "    <tr>\n",
              "      <th>3</th>\n",
              "      <td>1</td>\n",
              "      <td>4</td>\n",
              "      <td>0.07575</td>\n",
              "    </tr>\n",
              "    <tr>\n",
              "      <th>4</th>\n",
              "      <td>1</td>\n",
              "      <td>5</td>\n",
              "      <td>0.14075</td>\n",
              "    </tr>\n",
              "  </tbody>\n",
              "</table>\n",
              "</div>"
            ],
            "text/plain": [
              "   movieId  tagId  relevance\n",
              "0        1      1    0.02875\n",
              "1        1      2    0.02375\n",
              "2        1      3    0.06250\n",
              "3        1      4    0.07575\n",
              "4        1      5    0.14075"
            ]
          },
          "execution_count": 5,
          "metadata": {},
          "output_type": "execute_result"
        }
      ],
      "source": [
        "# Display the first few rows of the genome_score dataset\n",
        "df_genome_scores.head()"
      ]
    },
    {
      "cell_type": "markdown",
      "metadata": {},
      "source": [
        "This dataset contains information about both movieId and tagId, with the relevance score indicating the degree of relevance between the tag and the movie. The tag genome assesses the strength of each tag's applicability to each item, represented on a continuous scale from 0 to 1. In this scale, 0 signifies no applicability, while 1 indicates a very strong relevance of the tag to the item.\n",
        "\n",
        "The relevance score is valuable for both content-based and collaborative models. It contributes to the effectiveness of content-based models by quantifying content similarity, and it enhances collaborative models by incorporating content-related features to improve recommendations. The dual impact of relevance scores makes them a valuable component in creating a comprehensive recommendation system that combines both content and collaborative filtering approaches."
      ]
    },
    {
      "cell_type": "code",
      "execution_count": 6,
      "metadata": {},
      "outputs": [
        {
          "data": {
            "text/plain": [
              "(15584448, 3)"
            ]
          },
          "execution_count": 6,
          "metadata": {},
          "output_type": "execute_result"
        }
      ],
      "source": [
        "# Display the shape (number of rows and columns) of the genome_score dataset\n",
        "df_genome_scores.shape"
      ]
    },
    {
      "cell_type": "markdown",
      "metadata": {},
      "source": [
        "The dataset comprises 15,584,448 rows and encompasses 3 columns, indicating its substantial size. Given the vast scale of this dataset, it becomes imperative to explore techniques for dimensionality reduction to efficiently manage and analyze the data."
      ]
    },
    {
      "cell_type": "code",
      "execution_count": 7,
      "metadata": {},
      "outputs": [
        {
          "name": "stdout",
          "output_type": "stream",
          "text": [
            "<class 'pandas.core.frame.DataFrame'>\n",
            "RangeIndex: 15584448 entries, 0 to 15584447\n",
            "Data columns (total 3 columns):\n",
            " #   Column     Dtype  \n",
            "---  ------     -----  \n",
            " 0   movieId    int64  \n",
            " 1   tagId      int64  \n",
            " 2   relevance  float64\n",
            "dtypes: float64(1), int64(2)\n",
            "memory usage: 356.7 MB\n"
          ]
        }
      ],
      "source": [
        "# Display information about the genome_scores dataset, including data types\n",
        "df_genome_scores.info()"
      ]
    },
    {
      "cell_type": "markdown",
      "metadata": {},
      "source": [
        "This database exclusively contains floating-point numbers or integers, making it compatible for constructing models."
      ]
    },
    {
      "cell_type": "code",
      "execution_count": 30,
      "metadata": {},
      "outputs": [
        {
          "data": {
            "text/plain": [
              "movieId      0\n",
              "tagId        0\n",
              "relevance    0\n",
              "dtype: int64"
            ]
          },
          "execution_count": 30,
          "metadata": {},
          "output_type": "execute_result"
        }
      ],
      "source": [
        "# Display the count of missing values in each column of the genome_scores dataset\n",
        "df_genome_scores.isnull().sum()"
      ]
    },
    {
      "cell_type": "markdown",
      "metadata": {},
      "source": [
        "There are no missing values in this dataset. "
      ]
    },
    {
      "cell_type": "code",
      "execution_count": 8,
      "metadata": {},
      "outputs": [
        {
          "data": {
            "application/vnd.jupyter.widget-view+json": {
              "model_id": "1be6cfaa4ddd41dbbb87b6a5aa503ad0",
              "version_major": 2,
              "version_minor": 0
            },
            "text/plain": [
              "                                             |          | [  0%]   00:00 -> (? left)"
            ]
          },
          "metadata": {},
          "output_type": "display_data"
        },
        {
          "name": "stdout",
          "output_type": "stream",
          "text": [
            "Report report.html was generated! NOTEBOOK/COLAB USERS: the web browser MAY not pop up, regardless, the report IS saved in your notebook/colab files.\n",
            "ERROR: comet_ml is installed, but not configured properly (e.g. check API key setup). HTML reports will not be uploaded.\n"
          ]
        }
      ],
      "source": [
        "analyze_report = sv.analyze(df_genome_scores)\n",
        "analyze_report.show_html('report.html', open_browser=True)"
      ]
    },
    {
      "cell_type": "markdown",
      "metadata": {},
      "source": [
        "##### *4.1.1.2. `df_genome_tags`:*"
      ]
    },
    {
      "cell_type": "markdown",
      "metadata": {},
      "source": [
        "Let's commence by showcasing our dataset named `df_genome_tags`:"
      ]
    },
    {
      "cell_type": "code",
      "execution_count": 31,
      "metadata": {},
      "outputs": [
        {
          "data": {
            "text/html": [
              "<div>\n",
              "<style scoped>\n",
              "    .dataframe tbody tr th:only-of-type {\n",
              "        vertical-align: middle;\n",
              "    }\n",
              "\n",
              "    .dataframe tbody tr th {\n",
              "        vertical-align: top;\n",
              "    }\n",
              "\n",
              "    .dataframe thead th {\n",
              "        text-align: right;\n",
              "    }\n",
              "</style>\n",
              "<table border=\"1\" class=\"dataframe\">\n",
              "  <thead>\n",
              "    <tr style=\"text-align: right;\">\n",
              "      <th></th>\n",
              "      <th>tagId</th>\n",
              "      <th>tag</th>\n",
              "    </tr>\n",
              "  </thead>\n",
              "  <tbody>\n",
              "    <tr>\n",
              "      <th>0</th>\n",
              "      <td>1</td>\n",
              "      <td>007</td>\n",
              "    </tr>\n",
              "    <tr>\n",
              "      <th>1</th>\n",
              "      <td>2</td>\n",
              "      <td>007 (series)</td>\n",
              "    </tr>\n",
              "    <tr>\n",
              "      <th>2</th>\n",
              "      <td>3</td>\n",
              "      <td>18th century</td>\n",
              "    </tr>\n",
              "    <tr>\n",
              "      <th>3</th>\n",
              "      <td>4</td>\n",
              "      <td>1920s</td>\n",
              "    </tr>\n",
              "    <tr>\n",
              "      <th>4</th>\n",
              "      <td>5</td>\n",
              "      <td>1930s</td>\n",
              "    </tr>\n",
              "  </tbody>\n",
              "</table>\n",
              "</div>"
            ],
            "text/plain": [
              "   tagId           tag\n",
              "0      1           007\n",
              "1      2  007 (series)\n",
              "2      3  18th century\n",
              "3      4         1920s\n",
              "4      5         1930s"
            ]
          },
          "execution_count": 31,
          "metadata": {},
          "output_type": "execute_result"
        }
      ],
      "source": [
        "df_genome_tags.head()"
      ]
    },
    {
      "cell_type": "markdown",
      "metadata": {},
      "source": [
        "The dataset `df_genome_tags` furnishes user-assigned tag descriptions corresponding to the tag IDs found in the `df_genome_scores` dataset.\n",
        "\n",
        "The dataset is more important for the content-based model. It enriches the content representation, enhances interpretability, and contributes to personalized recommendations by incorporating user-generated insights into the content features. This user-generated metadata is particularly valuable when aiming for a recommendation system that reflects both automated content analysis and user perceptions."
      ]
    },
    {
      "cell_type": "code",
      "execution_count": 10,
      "metadata": {},
      "outputs": [
        {
          "data": {
            "text/plain": [
              "(1128, 2)"
            ]
          },
          "execution_count": 10,
          "metadata": {},
          "output_type": "execute_result"
        }
      ],
      "source": [
        "df_genome_tags.shape"
      ]
    },
    {
      "cell_type": "markdown",
      "metadata": {},
      "source": [
        "The dataset comprises 1128 rows and encompasses 2 columns."
      ]
    },
    {
      "cell_type": "code",
      "execution_count": 32,
      "metadata": {},
      "outputs": [
        {
          "name": "stdout",
          "output_type": "stream",
          "text": [
            "<class 'pandas.core.frame.DataFrame'>\n",
            "RangeIndex: 1128 entries, 0 to 1127\n",
            "Data columns (total 2 columns):\n",
            " #   Column  Non-Null Count  Dtype \n",
            "---  ------  --------------  ----- \n",
            " 0   tagId   1128 non-null   int64 \n",
            " 1   tag     1128 non-null   object\n",
            "dtypes: int64(1), object(1)\n",
            "memory usage: 17.8+ KB\n"
          ]
        }
      ],
      "source": [
        "# Display information about the genome_tags dataset, including data types\n",
        "df_genome_tags.info()"
      ]
    },
    {
      "cell_type": "markdown",
      "metadata": {},
      "source": [
        "The dataset includes an integer column (`tagId`) and an object column (`tag`). As models cannot directly process language, the object column needs to undergo encoding before we proceed with training the model."
      ]
    },
    {
      "cell_type": "code",
      "execution_count": 33,
      "metadata": {},
      "outputs": [
        {
          "data": {
            "text/plain": [
              "tagId    0\n",
              "tag      0\n",
              "dtype: int64"
            ]
          },
          "execution_count": 33,
          "metadata": {},
          "output_type": "execute_result"
        }
      ],
      "source": [
        "# Display the count of missing values in each column of the genome_tags dataset\n",
        "df_genome_tags.isnull().sum()"
      ]
    },
    {
      "cell_type": "markdown",
      "metadata": {},
      "source": [
        "There are no missing values in this dataset."
      ]
    },
    {
      "cell_type": "code",
      "execution_count": 11,
      "metadata": {},
      "outputs": [
        {
          "data": {
            "application/vnd.jupyter.widget-view+json": {
              "model_id": "14917d231efa4baeaeb11991ab1017d1",
              "version_major": 2,
              "version_minor": 0
            },
            "text/plain": [
              "                                             |          | [  0%]   00:00 -> (? left)"
            ]
          },
          "metadata": {},
          "output_type": "display_data"
        },
        {
          "name": "stdout",
          "output_type": "stream",
          "text": [
            "Report report.html was generated! NOTEBOOK/COLAB USERS: the web browser MAY not pop up, regardless, the report IS saved in your notebook/colab files.\n",
            "ERROR: comet_ml is installed, but not configured properly (e.g. check API key setup). HTML reports will not be uploaded.\n"
          ]
        }
      ],
      "source": [
        "analyze_report = sv.analyze(df_genome_tags)\n",
        "analyze_report.show_html('report.html', open_browser=True)"
      ]
    },
    {
      "cell_type": "markdown",
      "metadata": {},
      "source": [
        "##### *4.1.1.3. `df_imdb_data`:*"
      ]
    },
    {
      "cell_type": "markdown",
      "metadata": {},
      "source": [
        "Let's commence by showcasing our dataset named `df_imdb_data`:"
      ]
    },
    {
      "cell_type": "code",
      "execution_count": 12,
      "metadata": {},
      "outputs": [
        {
          "data": {
            "text/html": [
              "<div>\n",
              "<style scoped>\n",
              "    .dataframe tbody tr th:only-of-type {\n",
              "        vertical-align: middle;\n",
              "    }\n",
              "\n",
              "    .dataframe tbody tr th {\n",
              "        vertical-align: top;\n",
              "    }\n",
              "\n",
              "    .dataframe thead th {\n",
              "        text-align: right;\n",
              "    }\n",
              "</style>\n",
              "<table border=\"1\" class=\"dataframe\">\n",
              "  <thead>\n",
              "    <tr style=\"text-align: right;\">\n",
              "      <th></th>\n",
              "      <th>movieId</th>\n",
              "      <th>title_cast</th>\n",
              "      <th>director</th>\n",
              "      <th>runtime</th>\n",
              "      <th>budget</th>\n",
              "      <th>plot_keywords</th>\n",
              "    </tr>\n",
              "  </thead>\n",
              "  <tbody>\n",
              "    <tr>\n",
              "      <th>0</th>\n",
              "      <td>1</td>\n",
              "      <td>Tom Hanks|Tim Allen|Don Rickles|Jim Varney|Wal...</td>\n",
              "      <td>John Lasseter</td>\n",
              "      <td>81.0</td>\n",
              "      <td>$30,000,000</td>\n",
              "      <td>toy|rivalry|cowboy|cgi animation</td>\n",
              "    </tr>\n",
              "    <tr>\n",
              "      <th>1</th>\n",
              "      <td>2</td>\n",
              "      <td>Robin Williams|Jonathan Hyde|Kirsten Dunst|Bra...</td>\n",
              "      <td>Jonathan Hensleigh</td>\n",
              "      <td>104.0</td>\n",
              "      <td>$65,000,000</td>\n",
              "      <td>board game|adventurer|fight|game</td>\n",
              "    </tr>\n",
              "    <tr>\n",
              "      <th>2</th>\n",
              "      <td>3</td>\n",
              "      <td>Walter Matthau|Jack Lemmon|Sophia Loren|Ann-Ma...</td>\n",
              "      <td>Mark Steven Johnson</td>\n",
              "      <td>101.0</td>\n",
              "      <td>$25,000,000</td>\n",
              "      <td>boat|lake|neighbor|rivalry</td>\n",
              "    </tr>\n",
              "    <tr>\n",
              "      <th>3</th>\n",
              "      <td>4</td>\n",
              "      <td>Whitney Houston|Angela Bassett|Loretta Devine|...</td>\n",
              "      <td>Terry McMillan</td>\n",
              "      <td>124.0</td>\n",
              "      <td>$16,000,000</td>\n",
              "      <td>black american|husband wife relationship|betra...</td>\n",
              "    </tr>\n",
              "    <tr>\n",
              "      <th>4</th>\n",
              "      <td>5</td>\n",
              "      <td>Steve Martin|Diane Keaton|Martin Short|Kimberl...</td>\n",
              "      <td>Albert Hackett</td>\n",
              "      <td>106.0</td>\n",
              "      <td>$30,000,000</td>\n",
              "      <td>fatherhood|doberman|dog|mansion</td>\n",
              "    </tr>\n",
              "  </tbody>\n",
              "</table>\n",
              "</div>"
            ],
            "text/plain": [
              "   movieId                                         title_cast  \\\n",
              "0        1  Tom Hanks|Tim Allen|Don Rickles|Jim Varney|Wal...   \n",
              "1        2  Robin Williams|Jonathan Hyde|Kirsten Dunst|Bra...   \n",
              "2        3  Walter Matthau|Jack Lemmon|Sophia Loren|Ann-Ma...   \n",
              "3        4  Whitney Houston|Angela Bassett|Loretta Devine|...   \n",
              "4        5  Steve Martin|Diane Keaton|Martin Short|Kimberl...   \n",
              "\n",
              "              director  runtime       budget  \\\n",
              "0        John Lasseter     81.0  $30,000,000   \n",
              "1   Jonathan Hensleigh    104.0  $65,000,000   \n",
              "2  Mark Steven Johnson    101.0  $25,000,000   \n",
              "3       Terry McMillan    124.0  $16,000,000   \n",
              "4       Albert Hackett    106.0  $30,000,000   \n",
              "\n",
              "                                       plot_keywords  \n",
              "0                   toy|rivalry|cowboy|cgi animation  \n",
              "1                   board game|adventurer|fight|game  \n",
              "2                         boat|lake|neighbor|rivalry  \n",
              "3  black american|husband wife relationship|betra...  \n",
              "4                    fatherhood|doberman|dog|mansion  "
            ]
          },
          "execution_count": 12,
          "metadata": {},
          "output_type": "execute_result"
        }
      ],
      "source": [
        "df_imdb_data.head()"
      ]
    },
    {
      "cell_type": "markdown",
      "metadata": {},
      "source": [
        "This dataset incorporates supplementary movie metadata extracted from IMDB, utilizing the information provided in the `df_links` dataset links. It encompasses details such as the cast, director, runtime, budget, and plot keywords associated with a specific movie, identified by the `movieId`.\n",
        "\n",
        " The dataset is more important for the content-based model. It significantly enhances the content representation, contributes to content similarity assessments, supports personalization, and ultimately improves the quality of recommendations based on the content characteristics of movies. This additional metadata is valuable in creating a content-based recommendation system that takes into account both automated content analysis and user-specific preferences."
      ]
    },
    {
      "cell_type": "code",
      "execution_count": 13,
      "metadata": {},
      "outputs": [
        {
          "data": {
            "text/plain": [
              "(27278, 6)"
            ]
          },
          "execution_count": 13,
          "metadata": {},
          "output_type": "execute_result"
        }
      ],
      "source": [
        "df_imdb_data.shape"
      ]
    },
    {
      "cell_type": "markdown",
      "metadata": {},
      "source": [
        "The dataset comprises 27,278 rows and encompasses 6 columns."
      ]
    },
    {
      "cell_type": "code",
      "execution_count": 37,
      "metadata": {},
      "outputs": [
        {
          "name": "stdout",
          "output_type": "stream",
          "text": [
            "<class 'pandas.core.frame.DataFrame'>\n",
            "RangeIndex: 27278 entries, 0 to 27277\n",
            "Data columns (total 6 columns):\n",
            " #   Column         Non-Null Count  Dtype  \n",
            "---  ------         --------------  -----  \n",
            " 0   movieId        27278 non-null  int64  \n",
            " 1   title_cast     17210 non-null  object \n",
            " 2   director       17404 non-null  object \n",
            " 3   runtime        15189 non-null  float64\n",
            " 4   budget         7906 non-null   object \n",
            " 5   plot_keywords  16200 non-null  object \n",
            "dtypes: float64(1), int64(1), object(4)\n",
            "memory usage: 1.2+ MB\n"
          ]
        }
      ],
      "source": [
        "# Display information about the imdb_data dataset, including data types\n",
        "df_imdb_data.info()"
      ]
    },
    {
      "cell_type": "markdown",
      "metadata": {},
      "source": [
        "The dataset comprises four object columns that necessitate encoding. Additionally, there is observable presence of missing values within the dataset."
      ]
    },
    {
      "cell_type": "code",
      "execution_count": 36,
      "metadata": {},
      "outputs": [
        {
          "data": {
            "text/plain": [
              "movieId              0\n",
              "title_cast       10068\n",
              "director          9874\n",
              "runtime          12089\n",
              "budget           19372\n",
              "plot_keywords    11078\n",
              "dtype: int64"
            ]
          },
          "execution_count": 36,
          "metadata": {},
          "output_type": "execute_result"
        }
      ],
      "source": [
        "# Display the count of missing values in each column of the imdb_data dataset\n",
        "df_imdb_data.isnull().sum()"
      ]
    },
    {
      "cell_type": "markdown",
      "metadata": {},
      "source": [
        "This dataset exhibits a considerable number of missing values. Specifically, there are 10,068 missing values in the `title_cast` column, 9,874 in the `director` column, 12,089 in the `runtime` column, 19,372 in the `budget` column, and 11,078 in the `plot_keywords` column."
      ]
    },
    {
      "cell_type": "code",
      "execution_count": 14,
      "metadata": {},
      "outputs": [
        {
          "data": {
            "application/vnd.jupyter.widget-view+json": {
              "model_id": "a584508f33714c789f0777d03b911650",
              "version_major": 2,
              "version_minor": 0
            },
            "text/plain": [
              "                                             |          | [  0%]   00:00 -> (? left)"
            ]
          },
          "metadata": {},
          "output_type": "display_data"
        },
        {
          "name": "stdout",
          "output_type": "stream",
          "text": [
            "Report report.html was generated! NOTEBOOK/COLAB USERS: the web browser MAY not pop up, regardless, the report IS saved in your notebook/colab files.\n",
            "ERROR: comet_ml is installed, but not configured properly (e.g. check API key setup). HTML reports will not be uploaded.\n"
          ]
        }
      ],
      "source": [
        "analyze_report = sv.analyze(df_imdb_data)\n",
        "analyze_report.show_html('report.html', open_browser=True)"
      ]
    },
    {
      "cell_type": "markdown",
      "metadata": {},
      "source": [
        "##### *4.1.1.4. `df_links`:*"
      ]
    },
    {
      "cell_type": "markdown",
      "metadata": {},
      "source": [
        "Let's commence by showcasing our dataset named `df_links`:"
      ]
    },
    {
      "cell_type": "code",
      "execution_count": 15,
      "metadata": {},
      "outputs": [
        {
          "data": {
            "text/html": [
              "<div>\n",
              "<style scoped>\n",
              "    .dataframe tbody tr th:only-of-type {\n",
              "        vertical-align: middle;\n",
              "    }\n",
              "\n",
              "    .dataframe tbody tr th {\n",
              "        vertical-align: top;\n",
              "    }\n",
              "\n",
              "    .dataframe thead th {\n",
              "        text-align: right;\n",
              "    }\n",
              "</style>\n",
              "<table border=\"1\" class=\"dataframe\">\n",
              "  <thead>\n",
              "    <tr style=\"text-align: right;\">\n",
              "      <th></th>\n",
              "      <th>movieId</th>\n",
              "      <th>imdbId</th>\n",
              "      <th>tmdbId</th>\n",
              "    </tr>\n",
              "  </thead>\n",
              "  <tbody>\n",
              "    <tr>\n",
              "      <th>0</th>\n",
              "      <td>1</td>\n",
              "      <td>114709</td>\n",
              "      <td>862.0</td>\n",
              "    </tr>\n",
              "    <tr>\n",
              "      <th>1</th>\n",
              "      <td>2</td>\n",
              "      <td>113497</td>\n",
              "      <td>8844.0</td>\n",
              "    </tr>\n",
              "    <tr>\n",
              "      <th>2</th>\n",
              "      <td>3</td>\n",
              "      <td>113228</td>\n",
              "      <td>15602.0</td>\n",
              "    </tr>\n",
              "    <tr>\n",
              "      <th>3</th>\n",
              "      <td>4</td>\n",
              "      <td>114885</td>\n",
              "      <td>31357.0</td>\n",
              "    </tr>\n",
              "    <tr>\n",
              "      <th>4</th>\n",
              "      <td>5</td>\n",
              "      <td>113041</td>\n",
              "      <td>11862.0</td>\n",
              "    </tr>\n",
              "  </tbody>\n",
              "</table>\n",
              "</div>"
            ],
            "text/plain": [
              "   movieId  imdbId   tmdbId\n",
              "0        1  114709    862.0\n",
              "1        2  113497   8844.0\n",
              "2        3  113228  15602.0\n",
              "3        4  114885  31357.0\n",
              "4        5  113041  11862.0"
            ]
          },
          "execution_count": 15,
          "metadata": {},
          "output_type": "execute_result"
        }
      ],
      "source": [
        "df_links.head()"
      ]
    },
    {
      "cell_type": "markdown",
      "metadata": {},
      "source": [
        "This dataset provids a mapping between a Movie ID and associated IMDB and TMDB IDs.\n",
        "\n",
        "The dataset is more important for the collaborative model. It enables cross-dataset linking, enhances user similarity assessments, and allows collaborative models to leverage information from multiple sources. While it may have some impact on content-based models by providing additional content features, its primary significance lies in facilitating collaborative filtering methods that benefit from a broader range of user preferences and movie details."
      ]
    },
    {
      "cell_type": "code",
      "execution_count": 16,
      "metadata": {},
      "outputs": [
        {
          "data": {
            "text/plain": [
              "(62423, 3)"
            ]
          },
          "execution_count": 16,
          "metadata": {},
          "output_type": "execute_result"
        }
      ],
      "source": [
        "df_links.shape"
      ]
    },
    {
      "cell_type": "markdown",
      "metadata": {},
      "source": [
        "The dataset comprises 62,423 rows and encompasses 3 columns."
      ]
    },
    {
      "cell_type": "code",
      "execution_count": 38,
      "metadata": {},
      "outputs": [
        {
          "name": "stdout",
          "output_type": "stream",
          "text": [
            "<class 'pandas.core.frame.DataFrame'>\n",
            "RangeIndex: 62423 entries, 0 to 62422\n",
            "Data columns (total 3 columns):\n",
            " #   Column   Non-Null Count  Dtype  \n",
            "---  ------   --------------  -----  \n",
            " 0   movieId  62423 non-null  int64  \n",
            " 1   imdbId   62423 non-null  int64  \n",
            " 2   tmdbId   62316 non-null  float64\n",
            "dtypes: float64(1), int64(2)\n",
            "memory usage: 1.4 MB\n"
          ]
        }
      ],
      "source": [
        "# Display information about the links dataset, including data types\n",
        "df_links.info()"
      ]
    },
    {
      "cell_type": "markdown",
      "metadata": {},
      "source": [
        "This database exclusively contains floating-point numbers or integers, making it compatible for constructing models."
      ]
    },
    {
      "cell_type": "code",
      "execution_count": 39,
      "metadata": {},
      "outputs": [
        {
          "data": {
            "text/plain": [
              "movieId      0\n",
              "imdbId       0\n",
              "tmdbId     107\n",
              "dtype: int64"
            ]
          },
          "execution_count": 39,
          "metadata": {},
          "output_type": "execute_result"
        }
      ],
      "source": [
        "# Display the count of missing values in each column of the links dataset\n",
        "df_links.isnull().sum()"
      ]
    },
    {
      "cell_type": "markdown",
      "metadata": {},
      "source": [
        "The column `tmdbId` in this dataset exhibits 107 instances of missing values."
      ]
    },
    {
      "cell_type": "code",
      "execution_count": 17,
      "metadata": {},
      "outputs": [
        {
          "data": {
            "application/vnd.jupyter.widget-view+json": {
              "model_id": "6135a07454a84d3daadda84b034066af",
              "version_major": 2,
              "version_minor": 0
            },
            "text/plain": [
              "                                             |          | [  0%]   00:00 -> (? left)"
            ]
          },
          "metadata": {},
          "output_type": "display_data"
        },
        {
          "name": "stdout",
          "output_type": "stream",
          "text": [
            "Report report.html was generated! NOTEBOOK/COLAB USERS: the web browser MAY not pop up, regardless, the report IS saved in your notebook/colab files.\n",
            "ERROR: comet_ml is installed, but not configured properly (e.g. check API key setup). HTML reports will not be uploaded.\n"
          ]
        }
      ],
      "source": [
        "analyze_report = sv.analyze(df_links)\n",
        "analyze_report.show_html('report.html', open_browser=True)"
      ]
    },
    {
      "cell_type": "markdown",
      "metadata": {},
      "source": [
        "##### *4.1.1.5. `df_movies`:*"
      ]
    },
    {
      "cell_type": "markdown",
      "metadata": {},
      "source": [
        "Let's commence by showcasing our dataset named `df_movies`:"
      ]
    },
    {
      "cell_type": "code",
      "execution_count": 18,
      "metadata": {},
      "outputs": [
        {
          "data": {
            "text/html": [
              "<div>\n",
              "<style scoped>\n",
              "    .dataframe tbody tr th:only-of-type {\n",
              "        vertical-align: middle;\n",
              "    }\n",
              "\n",
              "    .dataframe tbody tr th {\n",
              "        vertical-align: top;\n",
              "    }\n",
              "\n",
              "    .dataframe thead th {\n",
              "        text-align: right;\n",
              "    }\n",
              "</style>\n",
              "<table border=\"1\" class=\"dataframe\">\n",
              "  <thead>\n",
              "    <tr style=\"text-align: right;\">\n",
              "      <th></th>\n",
              "      <th>movieId</th>\n",
              "      <th>title</th>\n",
              "      <th>genres</th>\n",
              "    </tr>\n",
              "  </thead>\n",
              "  <tbody>\n",
              "    <tr>\n",
              "      <th>0</th>\n",
              "      <td>1</td>\n",
              "      <td>Toy Story (1995)</td>\n",
              "      <td>Adventure|Animation|Children|Comedy|Fantasy</td>\n",
              "    </tr>\n",
              "    <tr>\n",
              "      <th>1</th>\n",
              "      <td>2</td>\n",
              "      <td>Jumanji (1995)</td>\n",
              "      <td>Adventure|Children|Fantasy</td>\n",
              "    </tr>\n",
              "    <tr>\n",
              "      <th>2</th>\n",
              "      <td>3</td>\n",
              "      <td>Grumpier Old Men (1995)</td>\n",
              "      <td>Comedy|Romance</td>\n",
              "    </tr>\n",
              "    <tr>\n",
              "      <th>3</th>\n",
              "      <td>4</td>\n",
              "      <td>Waiting to Exhale (1995)</td>\n",
              "      <td>Comedy|Drama|Romance</td>\n",
              "    </tr>\n",
              "    <tr>\n",
              "      <th>4</th>\n",
              "      <td>5</td>\n",
              "      <td>Father of the Bride Part II (1995)</td>\n",
              "      <td>Comedy</td>\n",
              "    </tr>\n",
              "  </tbody>\n",
              "</table>\n",
              "</div>"
            ],
            "text/plain": [
              "   movieId                               title  \\\n",
              "0        1                    Toy Story (1995)   \n",
              "1        2                      Jumanji (1995)   \n",
              "2        3             Grumpier Old Men (1995)   \n",
              "3        4            Waiting to Exhale (1995)   \n",
              "4        5  Father of the Bride Part II (1995)   \n",
              "\n",
              "                                        genres  \n",
              "0  Adventure|Animation|Children|Comedy|Fantasy  \n",
              "1                   Adventure|Children|Fantasy  \n",
              "2                               Comedy|Romance  \n",
              "3                         Comedy|Drama|Romance  \n",
              "4                                       Comedy  "
            ]
          },
          "execution_count": 18,
          "metadata": {},
          "output_type": "execute_result"
        }
      ],
      "source": [
        "df_movies.head()"
      ]
    },
    {
      "cell_type": "markdown",
      "metadata": {},
      "source": [
        "The dataset encompasses the movieId, the movie title (including the year of release), and the genres, which are presented as a pipe-separated list. The genres are chosen from the following categories:\n",
        "\n",
        "Action\n",
        "Adventure\n",
        "Animation\n",
        "Children's\n",
        "Comedy\n",
        "Crime\n",
        "Documentary\n",
        "Drama\n",
        "Fantasy\n",
        "Film-Noir\n",
        "Horror\n",
        "Musical\n",
        "Mystery\n",
        "Romance\n",
        "Sci-Fi\n",
        "Thriller\n",
        "War\n",
        "Western\n",
        "(no genres listed)\n",
        "\n",
        "The dataset is important for both content-based and collaborative models, but its impact is more pronounced in content-based recommendation systems. Genres play a central role in content representation, content similarity assessments, and providing personalized recommendations based on users' genre preferences. However, collaborative models also benefit from the genre information to enhance user similarity and diversify recommendations within user clusters. The dataset's contribution to content-based models is more direct and prominent due to its role in content representation and similarity assessments."
      ]
    },
    {
      "cell_type": "code",
      "execution_count": 19,
      "metadata": {},
      "outputs": [
        {
          "data": {
            "text/plain": [
              "(62423, 3)"
            ]
          },
          "execution_count": 19,
          "metadata": {},
          "output_type": "execute_result"
        }
      ],
      "source": [
        "df_movies.shape"
      ]
    },
    {
      "cell_type": "markdown",
      "metadata": {},
      "source": [
        "The dataset comprises 62,423 rows and encompasses 3 columns."
      ]
    },
    {
      "cell_type": "code",
      "execution_count": 40,
      "metadata": {},
      "outputs": [
        {
          "name": "stdout",
          "output_type": "stream",
          "text": [
            "<class 'pandas.core.frame.DataFrame'>\n",
            "RangeIndex: 62423 entries, 0 to 62422\n",
            "Data columns (total 3 columns):\n",
            " #   Column   Non-Null Count  Dtype \n",
            "---  ------   --------------  ----- \n",
            " 0   movieId  62423 non-null  int64 \n",
            " 1   title    62423 non-null  object\n",
            " 2   genres   62423 non-null  object\n",
            "dtypes: int64(1), object(2)\n",
            "memory usage: 1.4+ MB\n"
          ]
        }
      ],
      "source": [
        "# Display information about the movies dataset, including data types\n",
        "df_movies.info()"
      ]
    },
    {
      "cell_type": "markdown",
      "metadata": {},
      "source": []
    },
    {
      "cell_type": "code",
      "execution_count": 41,
      "metadata": {},
      "outputs": [
        {
          "data": {
            "text/plain": [
              "movieId    0\n",
              "title      0\n",
              "genres     0\n",
              "dtype: int64"
            ]
          },
          "execution_count": 41,
          "metadata": {},
          "output_type": "execute_result"
        }
      ],
      "source": [
        "# Display the count of missing values in each column of the movies dataset\n",
        "df_movies.isnull().sum()"
      ]
    },
    {
      "cell_type": "code",
      "execution_count": 20,
      "metadata": {},
      "outputs": [
        {
          "data": {
            "application/vnd.jupyter.widget-view+json": {
              "model_id": "4958c45534554b69b9af56b629a175da",
              "version_major": 2,
              "version_minor": 0
            },
            "text/plain": [
              "                                             |          | [  0%]   00:00 -> (? left)"
            ]
          },
          "metadata": {},
          "output_type": "display_data"
        },
        {
          "name": "stdout",
          "output_type": "stream",
          "text": [
            "Report report.html was generated! NOTEBOOK/COLAB USERS: the web browser MAY not pop up, regardless, the report IS saved in your notebook/colab files.\n",
            "ERROR: comet_ml is installed, but not configured properly (e.g. check API key setup). HTML reports will not be uploaded.\n"
          ]
        }
      ],
      "source": [
        "analyze_report = sv.analyze(df_movies)\n",
        "analyze_report.show_html('report.html', open_browser=True)"
      ]
    },
    {
      "cell_type": "code",
      "execution_count": 21,
      "metadata": {},
      "outputs": [
        {
          "data": {
            "text/html": [
              "<div>\n",
              "<style scoped>\n",
              "    .dataframe tbody tr th:only-of-type {\n",
              "        vertical-align: middle;\n",
              "    }\n",
              "\n",
              "    .dataframe tbody tr th {\n",
              "        vertical-align: top;\n",
              "    }\n",
              "\n",
              "    .dataframe thead th {\n",
              "        text-align: right;\n",
              "    }\n",
              "</style>\n",
              "<table border=\"1\" class=\"dataframe\">\n",
              "  <thead>\n",
              "    <tr style=\"text-align: right;\">\n",
              "      <th></th>\n",
              "      <th>userId</th>\n",
              "      <th>movieId</th>\n",
              "      <th>tag</th>\n",
              "      <th>timestamp</th>\n",
              "    </tr>\n",
              "  </thead>\n",
              "  <tbody>\n",
              "    <tr>\n",
              "      <th>0</th>\n",
              "      <td>3</td>\n",
              "      <td>260</td>\n",
              "      <td>classic</td>\n",
              "      <td>1439472355</td>\n",
              "    </tr>\n",
              "    <tr>\n",
              "      <th>1</th>\n",
              "      <td>3</td>\n",
              "      <td>260</td>\n",
              "      <td>sci-fi</td>\n",
              "      <td>1439472256</td>\n",
              "    </tr>\n",
              "    <tr>\n",
              "      <th>2</th>\n",
              "      <td>4</td>\n",
              "      <td>1732</td>\n",
              "      <td>dark comedy</td>\n",
              "      <td>1573943598</td>\n",
              "    </tr>\n",
              "    <tr>\n",
              "      <th>3</th>\n",
              "      <td>4</td>\n",
              "      <td>1732</td>\n",
              "      <td>great dialogue</td>\n",
              "      <td>1573943604</td>\n",
              "    </tr>\n",
              "    <tr>\n",
              "      <th>4</th>\n",
              "      <td>4</td>\n",
              "      <td>7569</td>\n",
              "      <td>so bad it's good</td>\n",
              "      <td>1573943455</td>\n",
              "    </tr>\n",
              "  </tbody>\n",
              "</table>\n",
              "</div>"
            ],
            "text/plain": [
              "   userId  movieId               tag   timestamp\n",
              "0       3      260           classic  1439472355\n",
              "1       3      260            sci-fi  1439472256\n",
              "2       4     1732       dark comedy  1573943598\n",
              "3       4     1732    great dialogue  1573943604\n",
              "4       4     7569  so bad it's good  1573943455"
            ]
          },
          "execution_count": 21,
          "metadata": {},
          "output_type": "execute_result"
        }
      ],
      "source": [
        "df_tags.head()"
      ]
    },
    {
      "cell_type": "code",
      "execution_count": 22,
      "metadata": {},
      "outputs": [
        {
          "data": {
            "text/plain": [
              "(1093360, 4)"
            ]
          },
          "execution_count": 22,
          "metadata": {},
          "output_type": "execute_result"
        }
      ],
      "source": [
        "df_tags.shape"
      ]
    },
    {
      "cell_type": "code",
      "execution_count": 23,
      "metadata": {},
      "outputs": [
        {
          "data": {
            "application/vnd.jupyter.widget-view+json": {
              "model_id": "e8e81ad37fbf46adb0b6cf57e803fd75",
              "version_major": 2,
              "version_minor": 0
            },
            "text/plain": [
              "                                             |          | [  0%]   00:00 -> (? left)"
            ]
          },
          "metadata": {},
          "output_type": "display_data"
        },
        {
          "name": "stdout",
          "output_type": "stream",
          "text": [
            "Report report.html was generated! NOTEBOOK/COLAB USERS: the web browser MAY not pop up, regardless, the report IS saved in your notebook/colab files.\n",
            "ERROR: comet_ml is installed, but not configured properly (e.g. check API key setup). HTML reports will not be uploaded.\n"
          ]
        }
      ],
      "source": [
        "analyze_report = sv.analyze(df_tags)\n",
        "analyze_report.show_html('report.html', open_browser=True)"
      ]
    },
    {
      "cell_type": "code",
      "execution_count": 24,
      "metadata": {},
      "outputs": [
        {
          "data": {
            "text/html": [
              "<div>\n",
              "<style scoped>\n",
              "    .dataframe tbody tr th:only-of-type {\n",
              "        vertical-align: middle;\n",
              "    }\n",
              "\n",
              "    .dataframe tbody tr th {\n",
              "        vertical-align: top;\n",
              "    }\n",
              "\n",
              "    .dataframe thead th {\n",
              "        text-align: right;\n",
              "    }\n",
              "</style>\n",
              "<table border=\"1\" class=\"dataframe\">\n",
              "  <thead>\n",
              "    <tr style=\"text-align: right;\">\n",
              "      <th></th>\n",
              "      <th>userId</th>\n",
              "      <th>movieId</th>\n",
              "      <th>rating</th>\n",
              "      <th>timestamp</th>\n",
              "    </tr>\n",
              "  </thead>\n",
              "  <tbody>\n",
              "    <tr>\n",
              "      <th>0</th>\n",
              "      <td>5163</td>\n",
              "      <td>57669</td>\n",
              "      <td>4.0</td>\n",
              "      <td>1518349992</td>\n",
              "    </tr>\n",
              "    <tr>\n",
              "      <th>1</th>\n",
              "      <td>106343</td>\n",
              "      <td>5</td>\n",
              "      <td>4.5</td>\n",
              "      <td>1206238739</td>\n",
              "    </tr>\n",
              "    <tr>\n",
              "      <th>2</th>\n",
              "      <td>146790</td>\n",
              "      <td>5459</td>\n",
              "      <td>5.0</td>\n",
              "      <td>1076215539</td>\n",
              "    </tr>\n",
              "    <tr>\n",
              "      <th>3</th>\n",
              "      <td>106362</td>\n",
              "      <td>32296</td>\n",
              "      <td>2.0</td>\n",
              "      <td>1423042565</td>\n",
              "    </tr>\n",
              "    <tr>\n",
              "      <th>4</th>\n",
              "      <td>9041</td>\n",
              "      <td>366</td>\n",
              "      <td>3.0</td>\n",
              "      <td>833375837</td>\n",
              "    </tr>\n",
              "  </tbody>\n",
              "</table>\n",
              "</div>"
            ],
            "text/plain": [
              "   userId  movieId  rating   timestamp\n",
              "0    5163    57669     4.0  1518349992\n",
              "1  106343        5     4.5  1206238739\n",
              "2  146790     5459     5.0  1076215539\n",
              "3  106362    32296     2.0  1423042565\n",
              "4    9041      366     3.0   833375837"
            ]
          },
          "execution_count": 24,
          "metadata": {},
          "output_type": "execute_result"
        }
      ],
      "source": [
        "df_train.head()"
      ]
    },
    {
      "cell_type": "code",
      "execution_count": 25,
      "metadata": {},
      "outputs": [
        {
          "data": {
            "text/plain": [
              "(10000038, 4)"
            ]
          },
          "execution_count": 25,
          "metadata": {},
          "output_type": "execute_result"
        }
      ],
      "source": [
        "df_train.shape"
      ]
    },
    {
      "cell_type": "code",
      "execution_count": 26,
      "metadata": {},
      "outputs": [
        {
          "data": {
            "application/vnd.jupyter.widget-view+json": {
              "model_id": "4db3a32490314e75bc14a509097c56fc",
              "version_major": 2,
              "version_minor": 0
            },
            "text/plain": [
              "                                             |          | [  0%]   00:00 -> (? left)"
            ]
          },
          "metadata": {},
          "output_type": "display_data"
        },
        {
          "name": "stdout",
          "output_type": "stream",
          "text": [
            "Report report.html was generated! NOTEBOOK/COLAB USERS: the web browser MAY not pop up, regardless, the report IS saved in your notebook/colab files.\n",
            "ERROR: comet_ml is installed, but not configured properly (e.g. check API key setup). HTML reports will not be uploaded.\n"
          ]
        }
      ],
      "source": [
        "analyze_report = sv.analyze(df_train)\n",
        "analyze_report.show_html('report.html', open_browser=True)"
      ]
    },
    {
      "cell_type": "code",
      "execution_count": 27,
      "metadata": {},
      "outputs": [
        {
          "data": {
            "text/html": [
              "<div>\n",
              "<style scoped>\n",
              "    .dataframe tbody tr th:only-of-type {\n",
              "        vertical-align: middle;\n",
              "    }\n",
              "\n",
              "    .dataframe tbody tr th {\n",
              "        vertical-align: top;\n",
              "    }\n",
              "\n",
              "    .dataframe thead th {\n",
              "        text-align: right;\n",
              "    }\n",
              "</style>\n",
              "<table border=\"1\" class=\"dataframe\">\n",
              "  <thead>\n",
              "    <tr style=\"text-align: right;\">\n",
              "      <th></th>\n",
              "      <th>userId</th>\n",
              "      <th>movieId</th>\n",
              "    </tr>\n",
              "  </thead>\n",
              "  <tbody>\n",
              "    <tr>\n",
              "      <th>0</th>\n",
              "      <td>1</td>\n",
              "      <td>2011</td>\n",
              "    </tr>\n",
              "    <tr>\n",
              "      <th>1</th>\n",
              "      <td>1</td>\n",
              "      <td>4144</td>\n",
              "    </tr>\n",
              "    <tr>\n",
              "      <th>2</th>\n",
              "      <td>1</td>\n",
              "      <td>5767</td>\n",
              "    </tr>\n",
              "    <tr>\n",
              "      <th>3</th>\n",
              "      <td>1</td>\n",
              "      <td>6711</td>\n",
              "    </tr>\n",
              "    <tr>\n",
              "      <th>4</th>\n",
              "      <td>1</td>\n",
              "      <td>7318</td>\n",
              "    </tr>\n",
              "  </tbody>\n",
              "</table>\n",
              "</div>"
            ],
            "text/plain": [
              "   userId  movieId\n",
              "0       1     2011\n",
              "1       1     4144\n",
              "2       1     5767\n",
              "3       1     6711\n",
              "4       1     7318"
            ]
          },
          "execution_count": 27,
          "metadata": {},
          "output_type": "execute_result"
        }
      ],
      "source": [
        "df_test.head()"
      ]
    },
    {
      "cell_type": "code",
      "execution_count": 28,
      "metadata": {},
      "outputs": [
        {
          "data": {
            "text/plain": [
              "(5000019, 2)"
            ]
          },
          "execution_count": 28,
          "metadata": {},
          "output_type": "execute_result"
        }
      ],
      "source": [
        "df_test.shape"
      ]
    },
    {
      "cell_type": "markdown",
      "metadata": {},
      "source": [
        "Collaborative-based dataset:"
      ]
    },
    {
      "cell_type": "code",
      "execution_count": 29,
      "metadata": {},
      "outputs": [
        {
          "ename": "MemoryError",
          "evalue": "Unable to allocate 32.4 GiB for an array with shape (4351252147,) and data type int64",
          "output_type": "error",
          "traceback": [
            "\u001b[1;31m---------------------------------------------------------------------------\u001b[0m",
            "\u001b[1;31mMemoryError\u001b[0m                               Traceback (most recent call last)",
            "\u001b[1;32m~\\AppData\\Local\\Temp\\ipykernel_18188\\2030616083.py\u001b[0m in \u001b[0;36m<module>\u001b[1;34m\u001b[0m\n\u001b[0;32m      1\u001b[0m \u001b[1;31m# Merge df_train and df_tags on 'movieId'\u001b[0m\u001b[1;33m\u001b[0m\u001b[1;33m\u001b[0m\u001b[0m\n\u001b[1;32m----> 2\u001b[1;33m \u001b[0mcollaborative_df\u001b[0m \u001b[1;33m=\u001b[0m \u001b[0mpd\u001b[0m\u001b[1;33m.\u001b[0m\u001b[0mmerge\u001b[0m\u001b[1;33m(\u001b[0m\u001b[0mdf_train\u001b[0m\u001b[1;33m,\u001b[0m \u001b[0mdf_tags\u001b[0m\u001b[1;33m,\u001b[0m \u001b[0mon\u001b[0m\u001b[1;33m=\u001b[0m\u001b[1;34m'movieId'\u001b[0m\u001b[1;33m,\u001b[0m \u001b[0mhow\u001b[0m\u001b[1;33m=\u001b[0m\u001b[1;34m'inner'\u001b[0m\u001b[1;33m)\u001b[0m\u001b[1;33m\u001b[0m\u001b[1;33m\u001b[0m\u001b[0m\n\u001b[0m\u001b[0;32m      3\u001b[0m \u001b[1;33m\u001b[0m\u001b[0m\n\u001b[0;32m      4\u001b[0m \u001b[1;31m# Display the first few rows of the collaborative dataframe\u001b[0m\u001b[1;33m\u001b[0m\u001b[1;33m\u001b[0m\u001b[0m\n\u001b[0;32m      5\u001b[0m \u001b[0mcollaborative_df\u001b[0m\u001b[1;33m.\u001b[0m\u001b[0mhead\u001b[0m\u001b[1;33m(\u001b[0m\u001b[1;33m)\u001b[0m\u001b[1;33m\u001b[0m\u001b[1;33m\u001b[0m\u001b[0m\n",
            "\u001b[1;32mc:\\Users\\T460\\Documents\\Anaconda\\lib\\site-packages\\pandas\\core\\reshape\\merge.py\u001b[0m in \u001b[0;36mmerge\u001b[1;34m(left, right, how, on, left_on, right_on, left_index, right_index, sort, suffixes, copy, indicator, validate)\u001b[0m\n\u001b[0;32m    120\u001b[0m         \u001b[0mvalidate\u001b[0m\u001b[1;33m=\u001b[0m\u001b[0mvalidate\u001b[0m\u001b[1;33m,\u001b[0m\u001b[1;33m\u001b[0m\u001b[1;33m\u001b[0m\u001b[0m\n\u001b[0;32m    121\u001b[0m     )\n\u001b[1;32m--> 122\u001b[1;33m     \u001b[1;32mreturn\u001b[0m \u001b[0mop\u001b[0m\u001b[1;33m.\u001b[0m\u001b[0mget_result\u001b[0m\u001b[1;33m(\u001b[0m\u001b[1;33m)\u001b[0m\u001b[1;33m\u001b[0m\u001b[1;33m\u001b[0m\u001b[0m\n\u001b[0m\u001b[0;32m    123\u001b[0m \u001b[1;33m\u001b[0m\u001b[0m\n\u001b[0;32m    124\u001b[0m \u001b[1;33m\u001b[0m\u001b[0m\n",
            "\u001b[1;32mc:\\Users\\T460\\Documents\\Anaconda\\lib\\site-packages\\pandas\\core\\reshape\\merge.py\u001b[0m in \u001b[0;36mget_result\u001b[1;34m(self)\u001b[0m\n\u001b[0;32m    714\u001b[0m             \u001b[0mself\u001b[0m\u001b[1;33m.\u001b[0m\u001b[0mleft\u001b[0m\u001b[1;33m,\u001b[0m \u001b[0mself\u001b[0m\u001b[1;33m.\u001b[0m\u001b[0mright\u001b[0m \u001b[1;33m=\u001b[0m \u001b[0mself\u001b[0m\u001b[1;33m.\u001b[0m\u001b[0m_indicator_pre_merge\u001b[0m\u001b[1;33m(\u001b[0m\u001b[0mself\u001b[0m\u001b[1;33m.\u001b[0m\u001b[0mleft\u001b[0m\u001b[1;33m,\u001b[0m \u001b[0mself\u001b[0m\u001b[1;33m.\u001b[0m\u001b[0mright\u001b[0m\u001b[1;33m)\u001b[0m\u001b[1;33m\u001b[0m\u001b[1;33m\u001b[0m\u001b[0m\n\u001b[0;32m    715\u001b[0m \u001b[1;33m\u001b[0m\u001b[0m\n\u001b[1;32m--> 716\u001b[1;33m         \u001b[0mjoin_index\u001b[0m\u001b[1;33m,\u001b[0m \u001b[0mleft_indexer\u001b[0m\u001b[1;33m,\u001b[0m \u001b[0mright_indexer\u001b[0m \u001b[1;33m=\u001b[0m \u001b[0mself\u001b[0m\u001b[1;33m.\u001b[0m\u001b[0m_get_join_info\u001b[0m\u001b[1;33m(\u001b[0m\u001b[1;33m)\u001b[0m\u001b[1;33m\u001b[0m\u001b[1;33m\u001b[0m\u001b[0m\n\u001b[0m\u001b[0;32m    717\u001b[0m \u001b[1;33m\u001b[0m\u001b[0m\n\u001b[0;32m    718\u001b[0m         llabels, rlabels = _items_overlap_with_suffix(\n",
            "\u001b[1;32mc:\\Users\\T460\\Documents\\Anaconda\\lib\\site-packages\\pandas\\core\\reshape\\merge.py\u001b[0m in \u001b[0;36m_get_join_info\u001b[1;34m(self)\u001b[0m\n\u001b[0;32m    965\u001b[0m             )\n\u001b[0;32m    966\u001b[0m         \u001b[1;32melse\u001b[0m\u001b[1;33m:\u001b[0m\u001b[1;33m\u001b[0m\u001b[1;33m\u001b[0m\u001b[0m\n\u001b[1;32m--> 967\u001b[1;33m             \u001b[1;33m(\u001b[0m\u001b[0mleft_indexer\u001b[0m\u001b[1;33m,\u001b[0m \u001b[0mright_indexer\u001b[0m\u001b[1;33m)\u001b[0m \u001b[1;33m=\u001b[0m \u001b[0mself\u001b[0m\u001b[1;33m.\u001b[0m\u001b[0m_get_join_indexers\u001b[0m\u001b[1;33m(\u001b[0m\u001b[1;33m)\u001b[0m\u001b[1;33m\u001b[0m\u001b[1;33m\u001b[0m\u001b[0m\n\u001b[0m\u001b[0;32m    968\u001b[0m \u001b[1;33m\u001b[0m\u001b[0m\n\u001b[0;32m    969\u001b[0m             \u001b[1;32mif\u001b[0m \u001b[0mself\u001b[0m\u001b[1;33m.\u001b[0m\u001b[0mright_index\u001b[0m\u001b[1;33m:\u001b[0m\u001b[1;33m\u001b[0m\u001b[1;33m\u001b[0m\u001b[0m\n",
            "\u001b[1;32mc:\\Users\\T460\\Documents\\Anaconda\\lib\\site-packages\\pandas\\core\\reshape\\merge.py\u001b[0m in \u001b[0;36m_get_join_indexers\u001b[1;34m(self)\u001b[0m\n\u001b[0;32m    939\u001b[0m     \u001b[1;32mdef\u001b[0m \u001b[0m_get_join_indexers\u001b[0m\u001b[1;33m(\u001b[0m\u001b[0mself\u001b[0m\u001b[1;33m)\u001b[0m \u001b[1;33m->\u001b[0m \u001b[0mtuple\u001b[0m\u001b[1;33m[\u001b[0m\u001b[0mnpt\u001b[0m\u001b[1;33m.\u001b[0m\u001b[0mNDArray\u001b[0m\u001b[1;33m[\u001b[0m\u001b[0mnp\u001b[0m\u001b[1;33m.\u001b[0m\u001b[0mintp\u001b[0m\u001b[1;33m]\u001b[0m\u001b[1;33m,\u001b[0m \u001b[0mnpt\u001b[0m\u001b[1;33m.\u001b[0m\u001b[0mNDArray\u001b[0m\u001b[1;33m[\u001b[0m\u001b[0mnp\u001b[0m\u001b[1;33m.\u001b[0m\u001b[0mintp\u001b[0m\u001b[1;33m]\u001b[0m\u001b[1;33m]\u001b[0m\u001b[1;33m:\u001b[0m\u001b[1;33m\u001b[0m\u001b[1;33m\u001b[0m\u001b[0m\n\u001b[0;32m    940\u001b[0m         \u001b[1;34m\"\"\"return the join indexers\"\"\"\u001b[0m\u001b[1;33m\u001b[0m\u001b[1;33m\u001b[0m\u001b[0m\n\u001b[1;32m--> 941\u001b[1;33m         return get_join_indexers(\n\u001b[0m\u001b[0;32m    942\u001b[0m             \u001b[0mself\u001b[0m\u001b[1;33m.\u001b[0m\u001b[0mleft_join_keys\u001b[0m\u001b[1;33m,\u001b[0m \u001b[0mself\u001b[0m\u001b[1;33m.\u001b[0m\u001b[0mright_join_keys\u001b[0m\u001b[1;33m,\u001b[0m \u001b[0msort\u001b[0m\u001b[1;33m=\u001b[0m\u001b[0mself\u001b[0m\u001b[1;33m.\u001b[0m\u001b[0msort\u001b[0m\u001b[1;33m,\u001b[0m \u001b[0mhow\u001b[0m\u001b[1;33m=\u001b[0m\u001b[0mself\u001b[0m\u001b[1;33m.\u001b[0m\u001b[0mhow\u001b[0m\u001b[1;33m\u001b[0m\u001b[1;33m\u001b[0m\u001b[0m\n\u001b[0;32m    943\u001b[0m         )\n",
            "\u001b[1;32mc:\\Users\\T460\\Documents\\Anaconda\\lib\\site-packages\\pandas\\core\\reshape\\merge.py\u001b[0m in \u001b[0;36mget_join_indexers\u001b[1;34m(left_keys, right_keys, sort, how, **kwargs)\u001b[0m\n\u001b[0;32m   1511\u001b[0m \u001b[1;33m\u001b[0m\u001b[0m\n\u001b[0;32m   1512\u001b[0m     \u001b[1;31m# error: Cannot call function of unknown type\u001b[0m\u001b[1;33m\u001b[0m\u001b[1;33m\u001b[0m\u001b[0m\n\u001b[1;32m-> 1513\u001b[1;33m     \u001b[1;32mreturn\u001b[0m \u001b[0mjoin_func\u001b[0m\u001b[1;33m(\u001b[0m\u001b[0mlkey\u001b[0m\u001b[1;33m,\u001b[0m \u001b[0mrkey\u001b[0m\u001b[1;33m,\u001b[0m \u001b[0mcount\u001b[0m\u001b[1;33m,\u001b[0m \u001b[1;33m**\u001b[0m\u001b[0mkwargs\u001b[0m\u001b[1;33m)\u001b[0m  \u001b[1;31m# type: ignore[operator]\u001b[0m\u001b[1;33m\u001b[0m\u001b[1;33m\u001b[0m\u001b[0m\n\u001b[0m\u001b[0;32m   1514\u001b[0m \u001b[1;33m\u001b[0m\u001b[0m\n\u001b[0;32m   1515\u001b[0m \u001b[1;33m\u001b[0m\u001b[0m\n",
            "\u001b[1;32mc:\\Users\\T460\\Documents\\Anaconda\\lib\\site-packages\\pandas\\_libs\\join.pyx\u001b[0m in \u001b[0;36mpandas._libs.join.inner_join\u001b[1;34m()\u001b[0m\n",
            "\u001b[1;31mMemoryError\u001b[0m: Unable to allocate 32.4 GiB for an array with shape (4351252147,) and data type int64"
          ]
        }
      ],
      "source": [
        "# Merge df_train and df_tags on 'movieId'\n",
        "collaborative_df = pd.merge(df_train, df_tags, on='movieId', how='inner')\n",
        "\n",
        "# Display the first few rows of the collaborative dataframe\n",
        "collaborative_df.head()"
      ]
    },
    {
      "cell_type": "markdown",
      "metadata": {
        "id": "jINNn8AzPqc4"
      },
      "source": [
        "<a id=\"five\"></a>\n",
        "## 5. Feature Engineering\n",
        "<a class=\"anchor\" id=\"1.1\"></a>\n",
        "<a href=#cont>Back to Table of Contents</a>\n",
        "\n",
        "---\n",
        "    \n",
        "| ⚡ Description: Data engineering ⚡ |\n",
        "| :--------------------------- |\n",
        "| In this section we will clean the dataset, and create new features - as identified in the EDA phase. |\n",
        "\n",
        "---"
      ]
    },
    {
      "cell_type": "markdown",
      "metadata": {
        "id": "j8BkNn6JP1PU"
      },
      "source": [
        "<a id=\"six\"></a>\n",
        "## 6. Modelling\n",
        "<a class=\"anchor\" id=\"1.1\"></a>\n",
        "<a href=#cont>Back to Table of Contents</a>\n",
        "\n",
        "---\n",
        "    \n",
        "| ⚡ Description: Modelling ⚡ |\n",
        "| :--------------------------- |\n",
        "| In this section, we will create models that are able to accurately recommend movies to users. |\n",
        "\n",
        "---"
      ]
    },
    {
      "cell_type": "markdown",
      "metadata": {
        "id": "36-wBCFHRfTy"
      },
      "source": [
        "<a id=\"seven\"></a>\n",
        "## 7. Model Performance\n",
        "<a class=\"anchor\" id=\"1.1\"></a>\n",
        "<a href=#cont>Back to Table of Contents</a>\n",
        "\n",
        "---\n",
        "    \n",
        "| ⚡ Description: Model performance ⚡ |\n",
        "| :--------------------------- |\n",
        "| In this section we will compare the relative performance of the various trained machine learning models on a holdout dataset and comment on what model is the best and why. |\n",
        "\n",
        "---"
      ]
    },
    {
      "cell_type": "markdown",
      "metadata": {
        "id": "WTgNyxqOR2Dg"
      },
      "source": [
        "<a id=\"eight\"></a>\n",
        "## 8. Model Explanations\n",
        "<a class=\"anchor\" id=\"1.1\"></a>\n",
        "<a href=#cont>Back to Table of Contents</a>\n",
        "\n",
        "---\n",
        "    \n",
        "| ⚡ Description: Model explanation ⚡ |\n",
        "| :--------------------------- |\n",
        "| In this section, we will compare the models and determine the best model to use. We will also discuss how the best performing model works in a simple way so that both technical and non-technical stakeholders can grasp the intuition behind the model's inner workings. |\n",
        "\n",
        "---"
      ]
    },
    {
      "cell_type": "markdown",
      "metadata": {
        "id": "GEE0MybHR_rK"
      },
      "source": [
        "<a id=\"nine\"></a>\n",
        "## 9. Conclusion\n",
        "<a class=\"anchor\" id=\"1.1\"></a>\n",
        "<a href=#cont>Back to Table of Contents</a>\n",
        "\n",
        "---\n",
        "    \n",
        "| ⚡ Description: Model explanation ⚡ |\n",
        "| :--------------------------- |\n",
        "| In this section, we will conclude the project. |\n",
        "\n",
        "---"
      ]
    },
    {
      "cell_type": "code",
      "execution_count": null,
      "metadata": {
        "id": "m7MBeZ13NngG"
      },
      "outputs": [],
      "source": []
    }
  ],
  "metadata": {
    "colab": {
      "provenance": []
    },
    "kernelspec": {
      "display_name": "Python 3",
      "name": "python3"
    },
    "language_info": {
      "codemirror_mode": {
        "name": "ipython",
        "version": 3
      },
      "file_extension": ".py",
      "mimetype": "text/x-python",
      "name": "python",
      "nbconvert_exporter": "python",
      "pygments_lexer": "ipython3",
      "version": "3.9.13"
    }
  },
  "nbformat": 4,
  "nbformat_minor": 0
}
